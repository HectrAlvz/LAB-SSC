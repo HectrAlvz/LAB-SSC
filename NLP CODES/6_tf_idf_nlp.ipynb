{
 "cells": [
  {
   "metadata": {},
   "cell_type": "markdown",
   "source": "",
   "id": "19716bbab465e50e"
  },
  {
   "cell_type": "markdown",
   "id": "9e19293f",
   "metadata": {},
   "source": "<h2 align='center'> TF-IDF</h2>"
  },
  {
   "cell_type": "code",
   "id": "bcae2e23",
   "metadata": {
    "ExecuteTime": {
     "end_time": "2024-06-03T17:43:51.631118Z",
     "start_time": "2024-06-03T17:43:51.626305Z"
    }
   },
   "source": [
    "from sklearn.feature_extraction.text import TfidfVectorizer\n",
    "\n",
    "corpus = [\n",
    "    \"Apple anuncia mañana nuevo iphone\", \n",
    "    \"Tesla anuncia mañana nuevo model-3\", \n",
    "    \"Google anuncia mañana nuevo pixel-6\", \n",
    "    \"Microsoft anuncia mañana nuevo surface\", \n",
    "    \"Amazon anuncia mañana nuevo eco-dot\", \n",
    "    \"Yo estoy comiendo mariscos y tú estás comiendo carne\"\n",
    "]"
   ],
   "outputs": [],
   "execution_count": 6
  },
  {
   "cell_type": "code",
   "id": "4fb67c88",
   "metadata": {
    "ExecuteTime": {
     "end_time": "2024-06-03T17:43:56.187226Z",
     "start_time": "2024-06-03T17:43:56.178188Z"
    }
   },
   "source": [
    "#Crear el vectorizador y encajemos los corpus y transformémoslos en consecuencia\n",
    "v = TfidfVectorizer()\n",
    "v.fit(corpus)\n",
    "transform_output = v.transform(corpus)"
   ],
   "outputs": [],
   "execution_count": 8
  },
  {
   "cell_type": "code",
   "id": "2ab34455",
   "metadata": {
    "ExecuteTime": {
     "end_time": "2024-06-03T17:44:29.803394Z",
     "start_time": "2024-06-03T17:44:29.799045Z"
    }
   },
   "source": [
    "#Vocabulario\n",
    "print(v.vocabulary_)"
   ],
   "outputs": [
    {
     "name": "stdout",
     "output_type": "stream",
     "text": [
      "{'apple': 2, 'anuncia': 1, 'mañana': 12, 'nuevo': 15, 'iphone': 10, 'tesla': 18, 'model': 14, 'google': 9, 'pixel': 16, 'microsoft': 13, 'surface': 17, 'amazon': 0, 'eco': 6, 'dot': 5, 'yo': 20, 'estoy': 7, 'comiendo': 4, 'mariscos': 11, 'tú': 19, 'estás': 8, 'carne': 3}\n"
     ]
    }
   ],
   "execution_count": 10
  },
  {
   "cell_type": "code",
   "id": "03b1f3b7",
   "metadata": {
    "ExecuteTime": {
     "end_time": "2024-06-03T17:46:01.175685Z",
     "start_time": "2024-06-03T17:46:01.168073Z"
    }
   },
   "source": [
    "#Imprimir el idf de cada palabra:\n",
    "\n",
    "all_feature_names = v.get_feature_names_out()\n",
    "\n",
    "for word in all_feature_names:\n",
    "    \n",
    "    #obtenemos el índice en el vocabulario\n",
    "    indx = v.vocabulary_.get(word)\n",
    "    \n",
    "    #obtener la puntuación\n",
    "    idf_score = v.idf_[indx]\n",
    "    \n",
    "    print(f\"{word} : {idf_score}\")"
   ],
   "outputs": [
    {
     "name": "stdout",
     "output_type": "stream",
     "text": [
      "amazon : 2.252762968495368\n",
      "anuncia : 1.1541506798272583\n",
      "apple : 2.252762968495368\n",
      "carne : 2.252762968495368\n",
      "comiendo : 2.252762968495368\n",
      "dot : 2.252762968495368\n",
      "eco : 2.252762968495368\n",
      "estoy : 2.252762968495368\n",
      "estás : 2.252762968495368\n",
      "google : 2.252762968495368\n",
      "iphone : 2.252762968495368\n",
      "mariscos : 2.252762968495368\n",
      "mañana : 1.1541506798272583\n",
      "microsoft : 2.252762968495368\n",
      "model : 2.252762968495368\n",
      "nuevo : 1.1541506798272583\n",
      "pixel : 2.252762968495368\n",
      "surface : 2.252762968495368\n",
      "tesla : 2.252762968495368\n",
      "tú : 2.252762968495368\n",
      "yo : 2.252762968495368\n"
     ]
    }
   ],
   "execution_count": 12
  },
  {
   "cell_type": "code",
   "id": "1f4d4e96",
   "metadata": {
    "ExecuteTime": {
     "end_time": "2024-06-03T17:46:14.950121Z",
     "start_time": "2024-06-03T17:46:14.943611Z"
    }
   },
   "source": [
    "#imprimamos la salida transformada de tf-idf\n",
    "print(transform_output.toarray())"
   ],
   "outputs": [
    {
     "name": "stdout",
     "output_type": "stream",
     "text": [
      "[[0.         0.30686302 0.59895962 0.         0.         0.\n",
      "  0.         0.         0.         0.         0.59895962 0.\n",
      "  0.30686302 0.         0.         0.30686302 0.         0.\n",
      "  0.         0.         0.        ]\n",
      " [0.         0.30686302 0.         0.         0.         0.\n",
      "  0.         0.         0.         0.         0.         0.\n",
      "  0.30686302 0.         0.59895962 0.30686302 0.         0.\n",
      "  0.59895962 0.         0.        ]\n",
      " [0.         0.30686302 0.         0.         0.         0.\n",
      "  0.         0.         0.         0.59895962 0.         0.\n",
      "  0.30686302 0.         0.         0.30686302 0.59895962 0.\n",
      "  0.         0.         0.        ]\n",
      " [0.         0.30686302 0.         0.         0.         0.\n",
      "  0.         0.         0.         0.         0.         0.\n",
      "  0.30686302 0.59895962 0.         0.30686302 0.         0.59895962\n",
      "  0.         0.         0.        ]\n",
      " [0.51383934 0.26325363 0.         0.         0.         0.51383934\n",
      "  0.51383934 0.         0.         0.         0.         0.\n",
      "  0.26325363 0.         0.         0.26325363 0.         0.\n",
      "  0.         0.         0.        ]\n",
      " [0.         0.         0.         0.31622777 0.63245553 0.\n",
      "  0.         0.31622777 0.31622777 0.         0.         0.31622777\n",
      "  0.         0.         0.         0.         0.         0.\n",
      "  0.         0.31622777 0.31622777]]\n"
     ]
    }
   ],
   "execution_count": 13
  }
 ],
 "metadata": {
  "kernelspec": {
   "display_name": "Python 3",
   "language": "python",
   "name": "python3"
  },
  "language_info": {
   "codemirror_mode": {
    "name": "ipython",
    "version": 3
   },
   "file_extension": ".py",
   "mimetype": "text/x-python",
   "name": "python",
   "nbconvert_exporter": "python",
   "pygments_lexer": "ipython3",
   "version": "3.8.10"
  }
 },
 "nbformat": 4,
 "nbformat_minor": 5
}
