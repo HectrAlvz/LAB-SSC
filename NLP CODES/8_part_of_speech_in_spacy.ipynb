{
 "cells": [
  {
   "metadata": {},
   "cell_type": "markdown",
   "source": "<h2 center>Part of Speech en Spacy</h2>"
  },
  {
   "cell_type": "code",
   "metadata": {
    "ExecuteTime": {
     "end_time": "2024-06-03T16:14:41.453285Z",
     "start_time": "2024-06-03T16:14:41.450102Z"
    }
   },
   "source": [
    "import spacy"
   ],
   "outputs": [],
   "execution_count": 19
  },
  {
   "metadata": {
    "ExecuteTime": {
     "end_time": "2024-06-03T16:14:50.636964Z",
     "start_time": "2024-06-03T16:14:41.463292Z"
    }
   },
   "cell_type": "code",
   "source": [
    "# Descarga de modelo\n",
    "!python -m spacy download en_core_web_sm"
   ],
   "outputs": [
    {
     "name": "stdout",
     "output_type": "stream",
     "text": [
      "Collecting en-core-web-sm==3.7.1\n",
      "  Downloading https://github.com/explosion/spacy-models/releases/download/en_core_web_sm-3.7.1/en_core_web_sm-3.7.1-py3-none-any.whl (12.8 MB)\n",
      "     ---------------------------------------- 0.0/12.8 MB ? eta -:--:--\n",
      "     ---------------------------------------- 0.0/12.8 MB ? eta -:--:--\n",
      "     --------------------------------------- 0.0/12.8 MB 262.6 kB/s eta 0:00:49\n",
      "     --------------------------------------- 0.1/12.8 MB 409.6 kB/s eta 0:00:32\n",
      "     --------------------------------------- 0.1/12.8 MB 654.9 kB/s eta 0:00:20\n",
      "      --------------------------------------- 0.2/12.8 MB 1.1 MB/s eta 0:00:12\n",
      "     - -------------------------------------- 0.4/12.8 MB 1.4 MB/s eta 0:00:09\n",
      "     - -------------------------------------- 0.5/12.8 MB 1.7 MB/s eta 0:00:08\n",
      "     -- ------------------------------------- 0.7/12.8 MB 2.0 MB/s eta 0:00:07\n",
      "     -- ------------------------------------- 0.9/12.8 MB 2.2 MB/s eta 0:00:06\n",
      "     --- ------------------------------------ 1.1/12.8 MB 2.3 MB/s eta 0:00:06\n",
      "     --- ------------------------------------ 1.2/12.8 MB 2.4 MB/s eta 0:00:05\n",
      "     ---- ----------------------------------- 1.4/12.8 MB 2.6 MB/s eta 0:00:05\n",
      "     ---- ----------------------------------- 1.5/12.8 MB 2.6 MB/s eta 0:00:05\n",
      "     ----- ---------------------------------- 1.6/12.8 MB 2.6 MB/s eta 0:00:05\n",
      "     ----- ---------------------------------- 1.9/12.8 MB 2.7 MB/s eta 0:00:04\n",
      "     ------ --------------------------------- 2.0/12.8 MB 2.7 MB/s eta 0:00:04\n",
      "     ------ --------------------------------- 2.2/12.8 MB 2.8 MB/s eta 0:00:04\n",
      "     ------- -------------------------------- 2.4/12.8 MB 2.9 MB/s eta 0:00:04\n",
      "     ------- -------------------------------- 2.6/12.8 MB 2.9 MB/s eta 0:00:04\n",
      "     -------- ------------------------------- 2.7/12.8 MB 2.9 MB/s eta 0:00:04\n",
      "     --------- ------------------------------ 2.9/12.8 MB 3.0 MB/s eta 0:00:04\n",
      "     --------- ------------------------------ 3.1/12.8 MB 3.1 MB/s eta 0:00:04\n",
      "     --------- ------------------------------ 3.2/12.8 MB 3.0 MB/s eta 0:00:04\n",
      "     ---------- ----------------------------- 3.5/12.8 MB 3.1 MB/s eta 0:00:03\n",
      "     ----------- ---------------------------- 3.6/12.8 MB 3.1 MB/s eta 0:00:03\n",
      "     ----------- ---------------------------- 3.8/12.8 MB 3.2 MB/s eta 0:00:03\n",
      "     ------------ --------------------------- 4.0/12.8 MB 3.2 MB/s eta 0:00:03\n",
      "     ------------ --------------------------- 4.2/12.8 MB 3.2 MB/s eta 0:00:03\n",
      "     ------------- -------------------------- 4.3/12.8 MB 3.2 MB/s eta 0:00:03\n",
      "     ------------- -------------------------- 4.4/12.8 MB 3.3 MB/s eta 0:00:03\n",
      "     ------------- -------------------------- 4.4/12.8 MB 3.3 MB/s eta 0:00:03\n",
      "     --------------- ------------------------ 4.9/12.8 MB 3.3 MB/s eta 0:00:03\n",
      "     --------------- ------------------------ 5.1/12.8 MB 3.3 MB/s eta 0:00:03\n",
      "     ---------------- ----------------------- 5.2/12.8 MB 3.3 MB/s eta 0:00:03\n",
      "     ---------------- ----------------------- 5.4/12.8 MB 3.3 MB/s eta 0:00:03\n",
      "     ----------------- ---------------------- 5.6/12.8 MB 3.3 MB/s eta 0:00:03\n",
      "     ----------------- ---------------------- 5.6/12.8 MB 3.3 MB/s eta 0:00:03\n",
      "     ------------------ --------------------- 6.0/12.8 MB 3.4 MB/s eta 0:00:03\n",
      "     ------------------- -------------------- 6.1/12.8 MB 3.4 MB/s eta 0:00:02\n",
      "     ------------------- -------------------- 6.3/12.8 MB 3.4 MB/s eta 0:00:02\n",
      "     -------------------- ------------------- 6.4/12.8 MB 3.4 MB/s eta 0:00:02\n",
      "     -------------------- ------------------- 6.4/12.8 MB 3.4 MB/s eta 0:00:02\n",
      "     -------------------- ------------------- 6.4/12.8 MB 3.4 MB/s eta 0:00:02\n",
      "     -------------------- ------------------- 6.4/12.8 MB 3.1 MB/s eta 0:00:03\n",
      "     -------------------- ------------------- 6.5/12.8 MB 3.1 MB/s eta 0:00:03\n",
      "     -------------------- ------------------- 6.6/12.8 MB 3.1 MB/s eta 0:00:02\n",
      "     --------------------- ------------------ 6.8/12.8 MB 3.1 MB/s eta 0:00:02\n",
      "     --------------------- ------------------ 7.0/12.8 MB 3.1 MB/s eta 0:00:02\n",
      "     ---------------------- ----------------- 7.1/12.8 MB 3.1 MB/s eta 0:00:02\n",
      "     ---------------------- ----------------- 7.3/12.8 MB 3.2 MB/s eta 0:00:02\n",
      "     ----------------------- ---------------- 7.5/12.8 MB 3.2 MB/s eta 0:00:02\n",
      "     ----------------------- ---------------- 7.6/12.8 MB 3.2 MB/s eta 0:00:02\n",
      "     ------------------------ --------------- 7.8/12.8 MB 3.2 MB/s eta 0:00:02\n",
      "     ------------------------ --------------- 7.9/12.8 MB 3.2 MB/s eta 0:00:02\n",
      "     ------------------------- -------------- 8.1/12.8 MB 3.2 MB/s eta 0:00:02\n",
      "     ------------------------- -------------- 8.3/12.8 MB 3.2 MB/s eta 0:00:02\n",
      "     -------------------------- ------------- 8.4/12.8 MB 3.2 MB/s eta 0:00:02\n",
      "     -------------------------- ------------- 8.6/12.8 MB 3.2 MB/s eta 0:00:02\n",
      "     --------------------------- ------------ 8.8/12.8 MB 3.2 MB/s eta 0:00:02\n",
      "     --------------------------- ------------ 8.9/12.8 MB 3.2 MB/s eta 0:00:02\n",
      "     ---------------------------- ----------- 9.1/12.8 MB 3.2 MB/s eta 0:00:02\n",
      "     ----------------------------- ---------- 9.3/12.8 MB 3.2 MB/s eta 0:00:02\n",
      "     ----------------------------- ---------- 9.5/12.8 MB 3.2 MB/s eta 0:00:02\n",
      "     ------------------------------ --------- 9.6/12.8 MB 3.2 MB/s eta 0:00:01\n",
      "     ------------------------------ --------- 9.8/12.8 MB 3.3 MB/s eta 0:00:01\n",
      "     ------------------------------- -------- 10.0/12.8 MB 3.3 MB/s eta 0:00:01\n",
      "     ------------------------------- -------- 10.2/12.8 MB 3.3 MB/s eta 0:00:01\n",
      "     -------------------------------- ------- 10.4/12.8 MB 3.4 MB/s eta 0:00:01\n",
      "     -------------------------------- ------- 10.5/12.8 MB 3.4 MB/s eta 0:00:01\n",
      "     --------------------------------- ------ 10.7/12.8 MB 3.5 MB/s eta 0:00:01\n",
      "     --------------------------------- ------ 10.8/12.8 MB 3.4 MB/s eta 0:00:01\n",
      "     ---------------------------------- ----- 11.0/12.8 MB 3.4 MB/s eta 0:00:01\n",
      "     ----------------------------------- ---- 11.2/12.8 MB 3.5 MB/s eta 0:00:01\n",
      "     ----------------------------------- ---- 11.3/12.8 MB 3.4 MB/s eta 0:00:01\n",
      "     ----------------------------------- ---- 11.5/12.8 MB 3.4 MB/s eta 0:00:01\n",
      "     ------------------------------------ --- 11.7/12.8 MB 3.4 MB/s eta 0:00:01\n",
      "     ------------------------------------- -- 11.9/12.8 MB 3.5 MB/s eta 0:00:01\n",
      "     ------------------------------------- -- 12.0/12.8 MB 3.5 MB/s eta 0:00:01\n",
      "     -------------------------------------- - 12.2/12.8 MB 3.5 MB/s eta 0:00:01\n",
      "     -------------------------------------- - 12.4/12.8 MB 3.5 MB/s eta 0:00:01\n",
      "     ---------------------------------------  12.5/12.8 MB 3.5 MB/s eta 0:00:01\n",
      "     ---------------------------------------  12.5/12.8 MB 3.5 MB/s eta 0:00:01\n",
      "     ---------------------------------------  12.8/12.8 MB 3.5 MB/s eta 0:00:01\n",
      "     ---------------------------------------  12.8/12.8 MB 3.5 MB/s eta 0:00:01\n",
      "     ---------------------------------------  12.8/12.8 MB 3.5 MB/s eta 0:00:01\n",
      "     ---------------------------------------- 12.8/12.8 MB 3.3 MB/s eta 0:00:00\n",
      "Requirement already satisfied: spacy<3.8.0,>=3.7.2 in c:\\users\\theso\\pycharmprojects\\exercisesssc\\venv\\lib\\site-packages (from en-core-web-sm==3.7.1) (3.7.4)\n",
      "Requirement already satisfied: spacy-legacy<3.1.0,>=3.0.11 in c:\\users\\theso\\pycharmprojects\\exercisesssc\\venv\\lib\\site-packages (from spacy<3.8.0,>=3.7.2->en-core-web-sm==3.7.1) (3.0.12)\n",
      "Requirement already satisfied: spacy-loggers<2.0.0,>=1.0.0 in c:\\users\\theso\\pycharmprojects\\exercisesssc\\venv\\lib\\site-packages (from spacy<3.8.0,>=3.7.2->en-core-web-sm==3.7.1) (1.0.5)\n",
      "Requirement already satisfied: murmurhash<1.1.0,>=0.28.0 in c:\\users\\theso\\pycharmprojects\\exercisesssc\\venv\\lib\\site-packages (from spacy<3.8.0,>=3.7.2->en-core-web-sm==3.7.1) (1.0.10)\n",
      "Requirement already satisfied: cymem<2.1.0,>=2.0.2 in c:\\users\\theso\\pycharmprojects\\exercisesssc\\venv\\lib\\site-packages (from spacy<3.8.0,>=3.7.2->en-core-web-sm==3.7.1) (2.0.8)\n",
      "Requirement already satisfied: preshed<3.1.0,>=3.0.2 in c:\\users\\theso\\pycharmprojects\\exercisesssc\\venv\\lib\\site-packages (from spacy<3.8.0,>=3.7.2->en-core-web-sm==3.7.1) (3.0.9)\n",
      "Requirement already satisfied: thinc<8.3.0,>=8.2.2 in c:\\users\\theso\\pycharmprojects\\exercisesssc\\venv\\lib\\site-packages (from spacy<3.8.0,>=3.7.2->en-core-web-sm==3.7.1) (8.2.3)\n",
      "Requirement already satisfied: wasabi<1.2.0,>=0.9.1 in c:\\users\\theso\\pycharmprojects\\exercisesssc\\venv\\lib\\site-packages (from spacy<3.8.0,>=3.7.2->en-core-web-sm==3.7.1) (1.1.3)\n",
      "Requirement already satisfied: srsly<3.0.0,>=2.4.3 in c:\\users\\theso\\pycharmprojects\\exercisesssc\\venv\\lib\\site-packages (from spacy<3.8.0,>=3.7.2->en-core-web-sm==3.7.1) (2.4.8)\n",
      "Requirement already satisfied: catalogue<2.1.0,>=2.0.6 in c:\\users\\theso\\pycharmprojects\\exercisesssc\\venv\\lib\\site-packages (from spacy<3.8.0,>=3.7.2->en-core-web-sm==3.7.1) (2.0.10)\n",
      "Requirement already satisfied: weasel<0.4.0,>=0.1.0 in c:\\users\\theso\\pycharmprojects\\exercisesssc\\venv\\lib\\site-packages (from spacy<3.8.0,>=3.7.2->en-core-web-sm==3.7.1) (0.3.4)\n",
      "Requirement already satisfied: typer<0.10.0,>=0.3.0 in c:\\users\\theso\\pycharmprojects\\exercisesssc\\venv\\lib\\site-packages (from spacy<3.8.0,>=3.7.2->en-core-web-sm==3.7.1) (0.9.4)\n",
      "Requirement already satisfied: smart-open<7.0.0,>=5.2.1 in c:\\users\\theso\\pycharmprojects\\exercisesssc\\venv\\lib\\site-packages (from spacy<3.8.0,>=3.7.2->en-core-web-sm==3.7.1) (6.4.0)\n",
      "Requirement already satisfied: tqdm<5.0.0,>=4.38.0 in c:\\users\\theso\\pycharmprojects\\exercisesssc\\venv\\lib\\site-packages (from spacy<3.8.0,>=3.7.2->en-core-web-sm==3.7.1) (4.66.2)\n",
      "Requirement already satisfied: requests<3.0.0,>=2.13.0 in c:\\users\\theso\\pycharmprojects\\exercisesssc\\venv\\lib\\site-packages (from spacy<3.8.0,>=3.7.2->en-core-web-sm==3.7.1) (2.31.0)\n",
      "Requirement already satisfied: pydantic!=1.8,!=1.8.1,<3.0.0,>=1.7.4 in c:\\users\\theso\\pycharmprojects\\exercisesssc\\venv\\lib\\site-packages (from spacy<3.8.0,>=3.7.2->en-core-web-sm==3.7.1) (2.7.2)\n",
      "Requirement already satisfied: jinja2 in c:\\users\\theso\\pycharmprojects\\exercisesssc\\venv\\lib\\site-packages (from spacy<3.8.0,>=3.7.2->en-core-web-sm==3.7.1) (3.1.3)\n",
      "Requirement already satisfied: setuptools in c:\\users\\theso\\pycharmprojects\\exercisesssc\\venv\\lib\\site-packages (from spacy<3.8.0,>=3.7.2->en-core-web-sm==3.7.1) (68.2.0)\n",
      "Requirement already satisfied: packaging>=20.0 in c:\\users\\theso\\pycharmprojects\\exercisesssc\\venv\\lib\\site-packages (from spacy<3.8.0,>=3.7.2->en-core-web-sm==3.7.1) (24.0)\n",
      "Requirement already satisfied: langcodes<4.0.0,>=3.2.0 in c:\\users\\theso\\pycharmprojects\\exercisesssc\\venv\\lib\\site-packages (from spacy<3.8.0,>=3.7.2->en-core-web-sm==3.7.1) (3.4.0)\n",
      "Requirement already satisfied: numpy>=1.19.0 in c:\\users\\theso\\pycharmprojects\\exercisesssc\\venv\\lib\\site-packages (from spacy<3.8.0,>=3.7.2->en-core-web-sm==3.7.1) (1.26.4)\n",
      "Requirement already satisfied: language-data>=1.2 in c:\\users\\theso\\pycharmprojects\\exercisesssc\\venv\\lib\\site-packages (from langcodes<4.0.0,>=3.2.0->spacy<3.8.0,>=3.7.2->en-core-web-sm==3.7.1) (1.2.0)\n",
      "Requirement already satisfied: annotated-types>=0.4.0 in c:\\users\\theso\\pycharmprojects\\exercisesssc\\venv\\lib\\site-packages (from pydantic!=1.8,!=1.8.1,<3.0.0,>=1.7.4->spacy<3.8.0,>=3.7.2->en-core-web-sm==3.7.1) (0.7.0)\n",
      "Requirement already satisfied: pydantic-core==2.18.3 in c:\\users\\theso\\pycharmprojects\\exercisesssc\\venv\\lib\\site-packages (from pydantic!=1.8,!=1.8.1,<3.0.0,>=1.7.4->spacy<3.8.0,>=3.7.2->en-core-web-sm==3.7.1) (2.18.3)\n",
      "Requirement already satisfied: typing-extensions>=4.6.1 in c:\\users\\theso\\pycharmprojects\\exercisesssc\\venv\\lib\\site-packages (from pydantic!=1.8,!=1.8.1,<3.0.0,>=1.7.4->spacy<3.8.0,>=3.7.2->en-core-web-sm==3.7.1) (4.11.0)\n",
      "Requirement already satisfied: charset-normalizer<4,>=2 in c:\\users\\theso\\pycharmprojects\\exercisesssc\\venv\\lib\\site-packages (from requests<3.0.0,>=2.13.0->spacy<3.8.0,>=3.7.2->en-core-web-sm==3.7.1) (3.3.2)\n",
      "Requirement already satisfied: idna<4,>=2.5 in c:\\users\\theso\\pycharmprojects\\exercisesssc\\venv\\lib\\site-packages (from requests<3.0.0,>=2.13.0->spacy<3.8.0,>=3.7.2->en-core-web-sm==3.7.1) (3.6)\n",
      "Requirement already satisfied: urllib3<3,>=1.21.1 in c:\\users\\theso\\pycharmprojects\\exercisesssc\\venv\\lib\\site-packages (from requests<3.0.0,>=2.13.0->spacy<3.8.0,>=3.7.2->en-core-web-sm==3.7.1) (2.2.1)\n",
      "Requirement already satisfied: certifi>=2017.4.17 in c:\\users\\theso\\pycharmprojects\\exercisesssc\\venv\\lib\\site-packages (from requests<3.0.0,>=2.13.0->spacy<3.8.0,>=3.7.2->en-core-web-sm==3.7.1) (2024.2.2)\n",
      "Requirement already satisfied: blis<0.8.0,>=0.7.8 in c:\\users\\theso\\pycharmprojects\\exercisesssc\\venv\\lib\\site-packages (from thinc<8.3.0,>=8.2.2->spacy<3.8.0,>=3.7.2->en-core-web-sm==3.7.1) (0.7.11)\n",
      "Requirement already satisfied: confection<1.0.0,>=0.0.1 in c:\\users\\theso\\pycharmprojects\\exercisesssc\\venv\\lib\\site-packages (from thinc<8.3.0,>=8.2.2->spacy<3.8.0,>=3.7.2->en-core-web-sm==3.7.1) (0.1.5)\n",
      "Requirement already satisfied: colorama in c:\\users\\theso\\pycharmprojects\\exercisesssc\\venv\\lib\\site-packages (from tqdm<5.0.0,>=4.38.0->spacy<3.8.0,>=3.7.2->en-core-web-sm==3.7.1) (0.4.6)\n",
      "Requirement already satisfied: click<9.0.0,>=7.1.1 in c:\\users\\theso\\pycharmprojects\\exercisesssc\\venv\\lib\\site-packages (from typer<0.10.0,>=0.3.0->spacy<3.8.0,>=3.7.2->en-core-web-sm==3.7.1) (8.1.7)\n",
      "Requirement already satisfied: cloudpathlib<0.17.0,>=0.7.0 in c:\\users\\theso\\pycharmprojects\\exercisesssc\\venv\\lib\\site-packages (from weasel<0.4.0,>=0.1.0->spacy<3.8.0,>=3.7.2->en-core-web-sm==3.7.1) (0.16.0)\n",
      "Requirement already satisfied: MarkupSafe>=2.0 in c:\\users\\theso\\pycharmprojects\\exercisesssc\\venv\\lib\\site-packages (from jinja2->spacy<3.8.0,>=3.7.2->en-core-web-sm==3.7.1) (2.1.5)\n",
      "Requirement already satisfied: marisa-trie>=0.7.7 in c:\\users\\theso\\pycharmprojects\\exercisesssc\\venv\\lib\\site-packages (from language-data>=1.2->langcodes<4.0.0,>=3.2.0->spacy<3.8.0,>=3.7.2->en-core-web-sm==3.7.1) (1.1.1)\n",
      "\u001B[38;5;2m✔ Download and installation successful\u001B[0m\n",
      "You can now load the package via spacy.load('en_core_web_sm')\n"
     ]
    },
    {
     "name": "stderr",
     "output_type": "stream",
     "text": [
      "\n",
      "[notice] A new release of pip is available: 23.2.1 -> 24.0\n",
      "[notice] To update, run: python.exe -m pip install --upgrade pip\n"
     ]
    }
   ],
   "execution_count": 20
  },
  {
   "cell_type": "markdown",
   "metadata": {},
   "source": "<h3>POS tags (Etiquetas POS)</h3>"
  },
  {
   "cell_type": "code",
   "metadata": {
    "scrolled": true,
    "ExecuteTime": {
     "end_time": "2024-06-03T16:14:51.041580Z",
     "start_time": "2024-06-03T16:14:50.637970Z"
    }
   },
   "source": [
    "nlp = spacy.load(\"en_core_web_sm\")\n",
    "doc = nlp(\"Elon flew to Quitana Roo yesterday. He carried Cancún sand with him\")\n",
    "\n",
    "for token in doc:\n",
    "    print(token,\" | \", token.pos_, \" | \", spacy.explain(token.pos_))"
   ],
   "outputs": [
    {
     "name": "stdout",
     "output_type": "stream",
     "text": [
      "Elon  |  PROPN  |  proper noun\n",
      "flew  |  VERB  |  verb\n",
      "to  |  ADP  |  adposition\n",
      "Quitana  |  PROPN  |  proper noun\n",
      "Roo  |  PROPN  |  proper noun\n",
      "yesterday  |  NOUN  |  noun\n",
      ".  |  PUNCT  |  punctuation\n",
      "He  |  PRON  |  pronoun\n",
      "carried  |  VERB  |  verb\n",
      "Cancún  |  ADJ  |  adjective\n",
      "sand  |  NOUN  |  noun\n",
      "with  |  ADP  |  adposition\n",
      "him  |  PRON  |  pronoun\n"
     ]
    }
   ],
   "execution_count": 21
  },
  {
   "cell_type": "code",
   "metadata": {
    "ExecuteTime": {
     "end_time": "2024-06-03T16:14:51.053049Z",
     "start_time": "2024-06-03T16:14:51.042586Z"
    }
   },
   "source": [
    "doc = nlp(\"Wow! He made 265 million $ on the very first day\")\n",
    "\n",
    "for token in doc:\n",
    "    print(token,\" | \", token.pos_, \" | \", spacy.explain(token.pos_))"
   ],
   "outputs": [
    {
     "name": "stdout",
     "output_type": "stream",
     "text": [
      "Wow  |  INTJ  |  interjection\n",
      "!  |  PUNCT  |  punctuation\n",
      "He  |  PRON  |  pronoun\n",
      "made  |  VERB  |  verb\n",
      "265  |  NUM  |  numeral\n",
      "million  |  NUM  |  numeral\n",
      "$  |  NUM  |  numeral\n",
      "on  |  ADP  |  adposition\n",
      "the  |  DET  |  determiner\n",
      "very  |  ADV  |  adverb\n",
      "first  |  ADJ  |  adjective\n",
      "day  |  NOUN  |  noun\n"
     ]
    }
   ],
   "execution_count": 22
  },
  {
   "cell_type": "markdown",
   "metadata": {},
   "source": "<h3>Etiquetas (TAGS)</h3>"
  },
  {
   "cell_type": "code",
   "metadata": {
    "ExecuteTime": {
     "end_time": "2024-06-03T16:14:51.064714Z",
     "start_time": "2024-06-03T16:14:51.055055Z"
    }
   },
   "source": [
    "doc = nlp(\"Wow! He made 265 million $ on the very first day\")\n",
    "\n",
    "for token in doc:\n",
    "    print(token,\" | \", token.pos_, \" | \", spacy.explain(token.pos_), \" | \", token.tag_, \" | \", spacy.explain(token.tag_))"
   ],
   "outputs": [
    {
     "name": "stdout",
     "output_type": "stream",
     "text": [
      "Wow  |  INTJ  |  interjection  |  UH  |  interjection\n",
      "!  |  PUNCT  |  punctuation  |  .  |  punctuation mark, sentence closer\n",
      "He  |  PRON  |  pronoun  |  PRP  |  pronoun, personal\n",
      "made  |  VERB  |  verb  |  VBD  |  verb, past tense\n",
      "265  |  NUM  |  numeral  |  CD  |  cardinal number\n",
      "million  |  NUM  |  numeral  |  CD  |  cardinal number\n",
      "$  |  NUM  |  numeral  |  CD  |  cardinal number\n",
      "on  |  ADP  |  adposition  |  IN  |  conjunction, subordinating or preposition\n",
      "the  |  DET  |  determiner  |  DT  |  determiner\n",
      "very  |  ADV  |  adverb  |  RB  |  adverb\n",
      "first  |  ADJ  |  adjective  |  JJ  |  adjective (English), other noun-modifier (Chinese)\n",
      "day  |  NOUN  |  noun  |  NN  |  noun, singular or mass\n"
     ]
    }
   ],
   "execution_count": 23
  },
  {
   "cell_type": "markdown",
   "metadata": {},
   "source": "<h3>En las frases siguientes, Spacy calcula el tiempo pasado frente al presente de quit </h3>"
  },
  {
   "cell_type": "code",
   "metadata": {
    "ExecuteTime": {
     "end_time": "2024-06-03T16:14:51.074734Z",
     "start_time": "2024-06-03T16:14:51.065720Z"
    }
   },
   "source": [
    "doc = nlp(\"He quits the job\")\n",
    "\n",
    "print(doc[1].text, \"|\", doc[1].tag_, \"|\", spacy.explain(doc[1].tag_))"
   ],
   "outputs": [
    {
     "name": "stdout",
     "output_type": "stream",
     "text": [
      "quits | VBZ | verb, 3rd person singular present\n"
     ]
    }
   ],
   "execution_count": 24
  },
  {
   "cell_type": "code",
   "metadata": {
    "scrolled": true,
    "ExecuteTime": {
     "end_time": "2024-06-03T16:14:51.084872Z",
     "start_time": "2024-06-03T16:14:51.075739Z"
    }
   },
   "source": [
    "doc = nlp(\"he quit the job\")\n",
    "\n",
    "print(doc[1].text, \"|\", doc[1].tag_, \"|\", spacy.explain(doc[1].tag_))"
   ],
   "outputs": [
    {
     "name": "stdout",
     "output_type": "stream",
     "text": [
      "quit | VBD | verb, past tense\n"
     ]
    }
   ],
   "execution_count": 25
  },
  {
   "cell_type": "markdown",
   "metadata": {},
   "source": "<h3>Eliminar todos los ESPACIOS (SPACE), PUNTUACIONES (PUNCT) y X del texto</h3>"
  },
  {
   "cell_type": "markdown",
   "metadata": {},
   "source": "Informe de ganancias de microsoft: https://www.microsoft.com/en-us/investor/earnings/FY-2024-Q2/press-release-webcast"
  },
  {
   "metadata": {},
   "cell_type": "code",
   "outputs": [],
   "execution_count": null,
   "source": [
    "earnings_text=\"\"\"Microsoft Corp. today announced the following results for the quarter ended December 31, 2023, as compared to the corresponding period of last fiscal year:\n",
    "\n",
    "·        Revenue was $62.0 billion and increased 18% (up 16% in constant currency)\n",
    "\n",
    "·        Operating income was $27.0 billion and increased 33%, and increased 25% non-GAAP (up 23% in constant currency)\n",
    "\n",
    "·        Net income was $21.9 billion and increased 33%, and increased 26% non-GAAP (up 23% in constant currency)\n",
    "\n",
    "·        Diluted earnings per share was $2.93 and increased 33%, and increased 26% non-GAAP (up 23% in constant currency)\n",
    "\n",
    "Microsoft completed the acquisition of Activision Blizzard, Inc. (“Activision”) on October 13, 2023. Financial results from the acquired business are reported in the More Personal Computing segment.\n",
    "\n",
    "\"We’ve moved from talking about AI to applying AI at scale,\" said Satya Nadella, chairman and chief executive officer of Microsoft. \"By infusing AI across every layer of our tech stack, we’re winning new customers and helping drive new benefits and productivity gains across every sector.”\n",
    "\n",
    "“Strong execution by our sales teams and partners drove Microsoft Cloud revenue to $33.7 billion, up 24% (up 22% in constant currency) year-over-year,” said Amy Hood, executive vice president and chief financial officer of Microsoft.\n",
    "\n",
    "The following table reconciles our financial results reported in accordance with generally accepted accounting principles (GAAP) to non-GAAP financial results. Additional information regarding our non-GAAP definition is provided below. All growth comparisons relate to the corresponding period in the last fiscal year.\"\"\""
   ]
  },
  {
   "metadata": {
    "ExecuteTime": {
     "end_time": "2024-06-03T16:18:33.718991Z",
     "start_time": "2024-06-03T16:18:33.668260Z"
    }
   },
   "cell_type": "code",
   "source": [
    "doc = nlp(earnings_text)\n",
    "\n",
    "# Ejemplo sin filtrar\n",
    "for token in doc:\n",
    "    print(token.text, \"|\", token.pos_, \"|\", spacy.explain(token.pos_))"
   ],
   "outputs": [
    {
     "name": "stdout",
     "output_type": "stream",
     "text": [
      "Microsoft | PROPN | proper noun\n",
      "Corp. | PROPN | proper noun\n",
      "today | NOUN | noun\n",
      "announced | VERB | verb\n",
      "the | DET | determiner\n",
      "following | VERB | verb\n",
      "results | NOUN | noun\n",
      "for | ADP | adposition\n",
      "the | DET | determiner\n",
      "quarter | NOUN | noun\n",
      "ended | VERB | verb\n",
      "December | PROPN | proper noun\n",
      "31 | NUM | numeral\n",
      ", | PUNCT | punctuation\n",
      "2023 | NUM | numeral\n",
      ", | PUNCT | punctuation\n",
      "as | SCONJ | subordinating conjunction\n",
      "compared | VERB | verb\n",
      "to | ADP | adposition\n",
      "the | DET | determiner\n",
      "corresponding | ADJ | adjective\n",
      "period | NOUN | noun\n",
      "of | ADP | adposition\n",
      "last | ADJ | adjective\n",
      "fiscal | ADJ | adjective\n",
      "year | NOUN | noun\n",
      ": | PUNCT | punctuation\n",
      "\n",
      "\n",
      " | SPACE | space\n",
      "· | PUNCT | punctuation\n",
      "        | SPACE | space\n",
      "Revenue | NOUN | noun\n",
      "was | AUX | auxiliary\n",
      "$ | SYM | symbol\n",
      "62.0 | NUM | numeral\n",
      "billion | NUM | numeral\n",
      "and | CCONJ | coordinating conjunction\n",
      "increased | VERB | verb\n",
      "18 | NUM | numeral\n",
      "% | NOUN | noun\n",
      "( | PUNCT | punctuation\n",
      "up | ADV | adverb\n",
      "16 | NUM | numeral\n",
      "% | NOUN | noun\n",
      "in | ADP | adposition\n",
      "constant | ADJ | adjective\n",
      "currency | NOUN | noun\n",
      ") | PUNCT | punctuation\n",
      "\n",
      "\n",
      " | SPACE | space\n",
      "· | PUNCT | punctuation\n",
      "        | SPACE | space\n",
      "Operating | VERB | verb\n",
      "income | NOUN | noun\n",
      "was | AUX | auxiliary\n",
      "$ | SYM | symbol\n",
      "27.0 | NUM | numeral\n",
      "billion | NUM | numeral\n",
      "and | CCONJ | coordinating conjunction\n",
      "increased | VERB | verb\n",
      "33 | NUM | numeral\n",
      "% | NOUN | noun\n",
      ", | PUNCT | punctuation\n",
      "and | CCONJ | coordinating conjunction\n",
      "increased | VERB | verb\n",
      "25 | NUM | numeral\n",
      "% | NOUN | noun\n",
      "non | NOUN | noun\n",
      "- | NOUN | noun\n",
      "GAAP | NOUN | noun\n",
      "( | PUNCT | punctuation\n",
      "up | ADV | adverb\n",
      "23 | NUM | numeral\n",
      "% | NOUN | noun\n",
      "in | ADP | adposition\n",
      "constant | ADJ | adjective\n",
      "currency | NOUN | noun\n",
      ") | PUNCT | punctuation\n",
      "\n",
      "\n",
      " | SPACE | space\n",
      "· | PUNCT | punctuation\n",
      "        | SPACE | space\n",
      "Net | ADJ | adjective\n",
      "income | NOUN | noun\n",
      "was | AUX | auxiliary\n",
      "$ | SYM | symbol\n",
      "21.9 | NUM | numeral\n",
      "billion | NUM | numeral\n",
      "and | CCONJ | coordinating conjunction\n",
      "increased | VERB | verb\n",
      "33 | NUM | numeral\n",
      "% | NOUN | noun\n",
      ", | PUNCT | punctuation\n",
      "and | CCONJ | coordinating conjunction\n",
      "increased | VERB | verb\n",
      "26 | NUM | numeral\n",
      "% | NOUN | noun\n",
      "non | NOUN | noun\n",
      "- | NOUN | noun\n",
      "GAAP | NOUN | noun\n",
      "( | PUNCT | punctuation\n",
      "up | ADV | adverb\n",
      "23 | NUM | numeral\n",
      "% | NOUN | noun\n",
      "in | ADP | adposition\n",
      "constant | ADJ | adjective\n",
      "currency | NOUN | noun\n",
      ") | PUNCT | punctuation\n",
      "\n",
      "\n",
      " | SPACE | space\n",
      "· | PUNCT | punctuation\n",
      "        | SPACE | space\n",
      "Diluted | VERB | verb\n",
      "earnings | NOUN | noun\n",
      "per | ADP | adposition\n",
      "share | NOUN | noun\n",
      "was | AUX | auxiliary\n",
      "$ | SYM | symbol\n",
      "2.93 | NUM | numeral\n",
      "and | CCONJ | coordinating conjunction\n",
      "increased | VERB | verb\n",
      "33 | NUM | numeral\n",
      "% | NOUN | noun\n",
      ", | PUNCT | punctuation\n",
      "and | CCONJ | coordinating conjunction\n",
      "increased | VERB | verb\n",
      "26 | NUM | numeral\n",
      "% | NOUN | noun\n",
      "non | NOUN | noun\n",
      "- | NOUN | noun\n",
      "GAAP | NOUN | noun\n",
      "( | PUNCT | punctuation\n",
      "up | ADV | adverb\n",
      "23 | NUM | numeral\n",
      "% | NOUN | noun\n",
      "in | ADP | adposition\n",
      "constant | ADJ | adjective\n",
      "currency | NOUN | noun\n",
      ") | PUNCT | punctuation\n",
      "\n",
      "\n",
      " | SPACE | space\n",
      "Microsoft | PROPN | proper noun\n",
      "completed | VERB | verb\n",
      "the | DET | determiner\n",
      "acquisition | NOUN | noun\n",
      "of | ADP | adposition\n",
      "Activision | PROPN | proper noun\n",
      "Blizzard | PROPN | proper noun\n",
      ", | PUNCT | punctuation\n",
      "Inc. | PROPN | proper noun\n",
      "( | PUNCT | punctuation\n",
      "“ | PUNCT | punctuation\n",
      "Activision | PROPN | proper noun\n",
      "” | PUNCT | punctuation\n",
      ") | PUNCT | punctuation\n",
      "on | ADP | adposition\n",
      "October | PROPN | proper noun\n",
      "13 | NUM | numeral\n",
      ", | PUNCT | punctuation\n",
      "2023 | NUM | numeral\n",
      ". | PUNCT | punctuation\n",
      "Financial | ADJ | adjective\n",
      "results | NOUN | noun\n",
      "from | ADP | adposition\n",
      "the | DET | determiner\n",
      "acquired | VERB | verb\n",
      "business | NOUN | noun\n",
      "are | AUX | auxiliary\n",
      "reported | VERB | verb\n",
      "in | ADP | adposition\n",
      "the | DET | determiner\n",
      "More | ADJ | adjective\n",
      "Personal | PROPN | proper noun\n",
      "Computing | PROPN | proper noun\n",
      "segment | NOUN | noun\n",
      ". | PUNCT | punctuation\n",
      "\n",
      "\n",
      " | SPACE | space\n",
      "\" | PUNCT | punctuation\n",
      "We | PRON | pronoun\n",
      "’ve | AUX | auxiliary\n",
      "moved | VERB | verb\n",
      "from | ADP | adposition\n",
      "talking | VERB | verb\n",
      "about | ADP | adposition\n",
      "AI | PROPN | proper noun\n",
      "to | ADP | adposition\n",
      "applying | VERB | verb\n",
      "AI | PROPN | proper noun\n",
      "at | ADP | adposition\n",
      "scale | NOUN | noun\n",
      ", | PUNCT | punctuation\n",
      "\" | PUNCT | punctuation\n",
      "said | VERB | verb\n",
      "Satya | PROPN | proper noun\n",
      "Nadella | PROPN | proper noun\n",
      ", | PUNCT | punctuation\n",
      "chairman | NOUN | noun\n",
      "and | CCONJ | coordinating conjunction\n",
      "chief | ADJ | adjective\n",
      "executive | ADJ | adjective\n",
      "officer | NOUN | noun\n",
      "of | ADP | adposition\n",
      "Microsoft | PROPN | proper noun\n",
      ". | PUNCT | punctuation\n",
      "\" | PUNCT | punctuation\n",
      "By | ADP | adposition\n",
      "infusing | VERB | verb\n",
      "AI | PROPN | proper noun\n",
      "across | ADP | adposition\n",
      "every | DET | determiner\n",
      "layer | NOUN | noun\n",
      "of | ADP | adposition\n",
      "our | PRON | pronoun\n",
      "tech | NOUN | noun\n",
      "stack | NOUN | noun\n",
      ", | PUNCT | punctuation\n",
      "we | PRON | pronoun\n",
      "’re | AUX | auxiliary\n",
      "winning | VERB | verb\n",
      "new | ADJ | adjective\n",
      "customers | NOUN | noun\n",
      "and | CCONJ | coordinating conjunction\n",
      "helping | AUX | auxiliary\n",
      "drive | VERB | verb\n",
      "new | ADJ | adjective\n",
      "benefits | NOUN | noun\n",
      "and | CCONJ | coordinating conjunction\n",
      "productivity | NOUN | noun\n",
      "gains | NOUN | noun\n",
      "across | ADP | adposition\n",
      "every | DET | determiner\n",
      "sector | NOUN | noun\n",
      ". | PUNCT | punctuation\n",
      "” | PUNCT | punctuation\n",
      "\n",
      "\n",
      " | SPACE | space\n",
      "“ | PUNCT | punctuation\n",
      "Strong | ADJ | adjective\n",
      "execution | NOUN | noun\n",
      "by | ADP | adposition\n",
      "our | PRON | pronoun\n",
      "sales | NOUN | noun\n",
      "teams | NOUN | noun\n",
      "and | CCONJ | coordinating conjunction\n",
      "partners | NOUN | noun\n",
      "drove | VERB | verb\n",
      "Microsoft | PROPN | proper noun\n",
      "Cloud | PROPN | proper noun\n",
      "revenue | NOUN | noun\n",
      "to | ADP | adposition\n",
      "$ | SYM | symbol\n",
      "33.7 | NUM | numeral\n",
      "billion | NUM | numeral\n",
      ", | PUNCT | punctuation\n",
      "up | ADV | adverb\n",
      "24 | NUM | numeral\n",
      "% | NOUN | noun\n",
      "( | PUNCT | punctuation\n",
      "up | ADV | adverb\n",
      "22 | NUM | numeral\n",
      "% | NOUN | noun\n",
      "in | ADP | adposition\n",
      "constant | ADJ | adjective\n",
      "currency | NOUN | noun\n",
      ") | PUNCT | punctuation\n",
      "year | NOUN | noun\n",
      "- | PUNCT | punctuation\n",
      "over | ADP | adposition\n",
      "- | PUNCT | punctuation\n",
      "year | NOUN | noun\n",
      ", | PUNCT | punctuation\n",
      "” | PUNCT | punctuation\n",
      "said | VERB | verb\n",
      "Amy | PROPN | proper noun\n",
      "Hood | PROPN | proper noun\n",
      ", | PUNCT | punctuation\n",
      "executive | ADJ | adjective\n",
      "vice | NOUN | noun\n",
      "president | NOUN | noun\n",
      "and | CCONJ | coordinating conjunction\n",
      "chief | ADJ | adjective\n",
      "financial | ADJ | adjective\n",
      "officer | NOUN | noun\n",
      "of | ADP | adposition\n",
      "Microsoft | PROPN | proper noun\n",
      ". | PUNCT | punctuation\n",
      "\n",
      "\n",
      " | SPACE | space\n",
      "The | DET | determiner\n",
      "following | VERB | verb\n",
      "table | NOUN | noun\n",
      "reconciles | VERB | verb\n",
      "our | PRON | pronoun\n",
      "financial | ADJ | adjective\n",
      "results | NOUN | noun\n",
      "reported | VERB | verb\n",
      "in | ADP | adposition\n",
      "accordance | NOUN | noun\n",
      "with | ADP | adposition\n",
      "generally | ADV | adverb\n",
      "accepted | VERB | verb\n",
      "accounting | NOUN | noun\n",
      "principles | NOUN | noun\n",
      "( | PUNCT | punctuation\n",
      "GAAP | NOUN | noun\n",
      ") | PUNCT | punctuation\n",
      "to | ADP | adposition\n",
      "non | ADJ | adjective\n",
      "- | ADJ | adjective\n",
      "GAAP | NOUN | noun\n",
      "financial | ADJ | adjective\n",
      "results | NOUN | noun\n",
      ". | PUNCT | punctuation\n",
      "Additional | ADJ | adjective\n",
      "information | NOUN | noun\n",
      "regarding | VERB | verb\n",
      "our | PRON | pronoun\n",
      "non | ADJ | adjective\n",
      "- | NOUN | noun\n",
      "GAAP | NOUN | noun\n",
      "definition | NOUN | noun\n",
      "is | AUX | auxiliary\n",
      "provided | VERB | verb\n",
      "below | ADV | adverb\n",
      ". | PUNCT | punctuation\n",
      "All | DET | determiner\n",
      "growth | NOUN | noun\n",
      "comparisons | NOUN | noun\n",
      "relate | VERB | verb\n",
      "to | ADP | adposition\n",
      "the | DET | determiner\n",
      "corresponding | ADJ | adjective\n",
      "period | NOUN | noun\n",
      "in | ADP | adposition\n",
      "the | DET | determiner\n",
      "last | ADJ | adjective\n",
      "fiscal | ADJ | adjective\n",
      "year | NOUN | noun\n",
      ". | PUNCT | punctuation\n"
     ]
    }
   ],
   "execution_count": 34
  },
  {
   "metadata": {
    "ExecuteTime": {
     "end_time": "2024-06-03T16:37:29.172653Z",
     "start_time": "2024-06-03T16:37:29.168241Z"
    }
   },
   "cell_type": "code",
   "source": [
    "# SPACE, PUNCT, X y su frecuencia\n",
    "       \n",
    "for k, v in doc.count_by(spacy.attrs.POS).items():\n",
    "    # Si es SPACE, PUNCT o X\n",
    "    if doc.vocab[k].text in [\"SPACE\", \"PUNCT\", \"X\"]:\n",
    "        print(doc.vocab[k].text, \"|\", v)"
   ],
   "outputs": [
    {
     "name": "stdout",
     "output_type": "stream",
     "text": [
      "PUNCT | 50\n",
      "SPACE | 12\n"
     ]
    }
   ],
   "execution_count": 55
  },
  {
   "metadata": {
    "ExecuteTime": {
     "end_time": "2024-06-03T16:37:50.050565Z",
     "start_time": "2024-06-03T16:37:50.009569Z"
    }
   },
   "cell_type": "code",
   "source": [
    "doc = nlp(earnings_text)\n",
    "\n",
    "filtered_tokens = []\n",
    "\n",
    "for token in doc:\n",
    "    if token.pos_ not in [\"SPACE\", \"PUNCT\", \"X\"]:\n",
    "        filtered_tokens.append(token)"
   ],
   "outputs": [],
   "execution_count": 56
  },
  {
   "cell_type": "code",
   "metadata": {
    "scrolled": false,
    "ExecuteTime": {
     "end_time": "2024-06-03T16:38:45.354057Z",
     "start_time": "2024-06-03T16:38:45.348516Z"
    }
   },
   "source": "filtered_tokens[20:60]",
   "outputs": [
    {
     "data": {
      "text/plain": [
       "[of,\n",
       " last,\n",
       " fiscal,\n",
       " year,\n",
       " Revenue,\n",
       " was,\n",
       " $,\n",
       " 62.0,\n",
       " billion,\n",
       " and,\n",
       " increased,\n",
       " 18,\n",
       " %,\n",
       " up,\n",
       " 16,\n",
       " %,\n",
       " in,\n",
       " constant,\n",
       " currency,\n",
       " Operating,\n",
       " income,\n",
       " was,\n",
       " $,\n",
       " 27.0,\n",
       " billion,\n",
       " and,\n",
       " increased,\n",
       " 33,\n",
       " %,\n",
       " and,\n",
       " increased,\n",
       " 25,\n",
       " %,\n",
       " non,\n",
       " -,\n",
       " GAAP,\n",
       " up,\n",
       " 23,\n",
       " %,\n",
       " in]"
      ]
     },
     "execution_count": 61,
     "metadata": {},
     "output_type": "execute_result"
    }
   ],
   "execution_count": 61
  },
  {
   "cell_type": "code",
   "metadata": {
    "ExecuteTime": {
     "end_time": "2024-06-03T16:39:51.039487Z",
     "start_time": "2024-06-03T16:39:51.033003Z"
    }
   },
   "source": [
    "# Conteo de palabras filtradas\n",
    "count = doc.count_by(spacy.attrs.POS)\n",
    "count"
   ],
   "outputs": [
    {
     "data": {
      "text/plain": [
       "{96: 22,\n",
       " 92: 78,\n",
       " 100: 32,\n",
       " 90: 12,\n",
       " 85: 31,\n",
       " 93: 26,\n",
       " 97: 50,\n",
       " 98: 1,\n",
       " 84: 28,\n",
       " 103: 12,\n",
       " 87: 9,\n",
       " 99: 5,\n",
       " 89: 12,\n",
       " 86: 8,\n",
       " 95: 6}"
      ]
     },
     "execution_count": 62,
     "metadata": {},
     "output_type": "execute_result"
    }
   ],
   "execution_count": 62
  },
  {
   "cell_type": "code",
   "metadata": {
    "ExecuteTime": {
     "end_time": "2024-06-03T16:38:07.115993Z",
     "start_time": "2024-06-03T16:38:07.111578Z"
    }
   },
   "source": [
    "# Imprimir el tipo de palabra y su frecuencia\n",
    "for k,v in count.items():\n",
    "    print(doc.vocab[k].text, \"|\",v)"
   ],
   "outputs": [
    {
     "name": "stdout",
     "output_type": "stream",
     "text": [
      "PROPN | 22\n",
      "NOUN | 78\n",
      "VERB | 32\n",
      "DET | 12\n",
      "ADP | 31\n",
      "NUM | 26\n",
      "PUNCT | 50\n",
      "SCONJ | 1\n",
      "ADJ | 28\n",
      "SPACE | 12\n",
      "AUX | 9\n",
      "SYM | 5\n",
      "CCONJ | 12\n",
      "ADV | 8\n",
      "PRON | 6\n"
     ]
    }
   ],
   "execution_count": 60
  },
  {
   "metadata": {},
   "cell_type": "code",
   "outputs": [],
   "execution_count": null,
   "source": ""
  }
 ],
 "metadata": {
  "kernelspec": {
   "display_name": "Python 3",
   "language": "python",
   "name": "python3"
  },
  "language_info": {
   "codemirror_mode": {
    "name": "ipython",
    "version": 3
   },
   "file_extension": ".py",
   "mimetype": "text/x-python",
   "name": "python",
   "nbconvert_exporter": "python",
   "pygments_lexer": "ipython3",
   "version": "3.8.5"
  }
 },
 "nbformat": 4,
 "nbformat_minor": 4
}
