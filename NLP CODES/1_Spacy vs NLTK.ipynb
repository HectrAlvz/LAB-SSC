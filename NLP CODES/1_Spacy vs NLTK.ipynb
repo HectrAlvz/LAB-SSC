{
 "cells": [
  {
   "cell_type": "markdown",
   "metadata": {},
   "source": "<h3>Para Instalar las Librerias</h3>"
  },
  {
   "metadata": {},
   "cell_type": "code",
   "outputs": [],
   "execution_count": null,
   "source": [
    "!pip install spacy\n",
    "!python -m spacy download en"
   ]
  },
  {
   "metadata": {},
   "cell_type": "code",
   "outputs": [],
   "execution_count": null,
   "source": "!pip install nltk"
  },
  {
   "cell_type": "markdown",
   "metadata": {},
   "source": "<h3>Tokenización de frases y palabras en Spacy (En Inglés)</h3>"
  },
  {
   "cell_type": "code",
   "metadata": {
    "ExecuteTime": {
     "end_time": "2024-06-03T16:50:21.473808Z",
     "start_time": "2024-06-03T16:50:20.859170Z"
    }
   },
   "source": [
    "import spacy"
   ],
   "outputs": [],
   "execution_count": 2
  },
  {
   "cell_type": "code",
   "metadata": {
    "ExecuteTime": {
     "end_time": "2024-06-03T16:55:11.632623Z",
     "start_time": "2024-06-03T16:55:11.107432Z"
    }
   },
   "source": [
    "nlp = spacy.load(\"en_core_web_sm\")\n",
    "\n",
    "doc = nlp(\"Tony loves reading books. Hulk likes to go to the gym\")"
   ],
   "outputs": [],
   "execution_count": 11
  },
  {
   "cell_type": "code",
   "metadata": {
    "ExecuteTime": {
     "end_time": "2024-06-03T16:55:11.639055Z",
     "start_time": "2024-06-03T16:55:11.633647Z"
    }
   },
   "source": [
    "for sentence in doc.sents:\n",
    "    print(sentence)"
   ],
   "outputs": [
    {
     "name": "stdout",
     "output_type": "stream",
     "text": [
      "Tony loves reading books.\n",
      "Hulk likes to go to the gym\n"
     ]
    }
   ],
   "execution_count": 12
  },
  {
   "cell_type": "code",
   "metadata": {
    "scrolled": true,
    "ExecuteTime": {
     "end_time": "2024-06-03T16:55:12.126884Z",
     "start_time": "2024-06-03T16:55:12.122161Z"
    }
   },
   "source": [
    "for sentence in doc.sents:\n",
    "    for word in sentence:\n",
    "        print(word)"
   ],
   "outputs": [
    {
     "name": "stdout",
     "output_type": "stream",
     "text": [
      "Tony\n",
      "loves\n",
      "reading\n",
      "books\n",
      ".\n",
      "Hulk\n",
      "likes\n",
      "to\n",
      "go\n",
      "to\n",
      "the\n",
      "gym\n"
     ]
    }
   ],
   "execution_count": 13
  },
  {
   "cell_type": "markdown",
   "metadata": {},
   "source": "<h3>Tokenización de frases y palabras en NLTK</h3>"
  },
  {
   "cell_type": "code",
   "metadata": {
    "scrolled": true,
    "ExecuteTime": {
     "end_time": "2024-06-03T16:55:12.940545Z",
     "start_time": "2024-06-03T16:55:12.935719Z"
    }
   },
   "source": [
    "from nltk.tokenize import sent_tokenize\n",
    "import nltk\n",
    "nltk.download('punkt')"
   ],
   "outputs": [
    {
     "name": "stderr",
     "output_type": "stream",
     "text": [
      "[nltk_data] Downloading package punkt to\n",
      "[nltk_data]     C:\\Users\\theso\\AppData\\Roaming\\nltk_data...\n",
      "[nltk_data]   Package punkt is already up-to-date!\n"
     ]
    },
    {
     "data": {
      "text/plain": [
       "True"
      ]
     },
     "execution_count": 14,
     "metadata": {},
     "output_type": "execute_result"
    }
   ],
   "execution_count": 14
  },
  {
   "cell_type": "code",
   "metadata": {
    "ExecuteTime": {
     "end_time": "2024-06-03T16:55:13.531484Z",
     "start_time": "2024-06-03T16:55:13.526392Z"
    }
   },
   "source": "sent_tokenize(\"Tony loves reading books. Hulk likes to go to the gym\")",
   "outputs": [
    {
     "data": {
      "text/plain": [
       "['Tony loves reading books.', 'Hulk likes to go to the gym']"
      ]
     },
     "execution_count": 15,
     "metadata": {},
     "output_type": "execute_result"
    }
   ],
   "execution_count": 15
  },
  {
   "cell_type": "code",
   "metadata": {
    "ExecuteTime": {
     "end_time": "2024-06-03T16:55:13.967825Z",
     "start_time": "2024-06-03T16:55:13.963905Z"
    }
   },
   "source": [
    "from nltk.tokenize import word_tokenize"
   ],
   "outputs": [],
   "execution_count": 16
  },
  {
   "cell_type": "code",
   "metadata": {
    "scrolled": true,
    "ExecuteTime": {
     "end_time": "2024-06-03T16:55:14.533572Z",
     "start_time": "2024-06-03T16:55:14.528629Z"
    }
   },
   "source": "word_tokenize(\"Tony loves reading books. Hulk likes to go to the gym\")",
   "outputs": [
    {
     "data": {
      "text/plain": [
       "['Tony',\n",
       " 'loves',\n",
       " 'reading',\n",
       " 'books',\n",
       " '.',\n",
       " 'Hulk',\n",
       " 'likes',\n",
       " 'to',\n",
       " 'go',\n",
       " 'to',\n",
       " 'the',\n",
       " 'gym']"
      ]
     },
     "execution_count": 17,
     "metadata": {},
     "output_type": "execute_result"
    }
   ],
   "execution_count": 17
  },
  {
   "cell_type": "markdown",
   "metadata": {},
   "source": "El Spacy está mas orientado a objetos, mientras que NLTK es una biblioteca de procesamiento de cadenas."
  },
  {
   "metadata": {},
   "cell_type": "code",
   "outputs": [],
   "execution_count": null,
   "source": ""
  }
 ],
 "metadata": {
  "kernelspec": {
   "display_name": "Python 3",
   "language": "python",
   "name": "python3"
  },
  "language_info": {
   "codemirror_mode": {
    "name": "ipython",
    "version": 3
   },
   "file_extension": ".py",
   "mimetype": "text/x-python",
   "name": "python",
   "nbconvert_exporter": "python",
   "pygments_lexer": "ipython3",
   "version": "3.8.5"
  }
 },
 "nbformat": 4,
 "nbformat_minor": 4
}
