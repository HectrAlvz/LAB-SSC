{
 "cells": [
  {
   "cell_type": "markdown",
   "metadata": {},
   "source": "<h3>Stemming (Derivación) en NLTK</h3>"
  },
  {
   "metadata": {
    "ExecuteTime": {
     "end_time": "2024-06-03T15:37:49.970108Z",
     "start_time": "2024-06-03T15:37:48.074319Z"
    }
   },
   "cell_type": "code",
   "source": [
    "import nltk\n",
    "nltk.download('wordnet')"
   ],
   "outputs": [
    {
     "name": "stderr",
     "output_type": "stream",
     "text": [
      "[nltk_data] Downloading package wordnet to\n",
      "[nltk_data]     C:\\Users\\theso\\AppData\\Roaming\\nltk_data...\n",
      "[nltk_data]   Package wordnet is already up-to-date!\n"
     ]
    },
    {
     "data": {
      "text/plain": [
       "True"
      ]
     },
     "execution_count": 1,
     "metadata": {},
     "output_type": "execute_result"
    }
   ],
   "execution_count": 1
  },
  {
   "cell_type": "code",
   "metadata": {
    "ExecuteTime": {
     "end_time": "2024-06-03T15:37:49.982399Z",
     "start_time": "2024-06-03T15:37:49.971164Z"
    }
   },
   "source": [
    "from nltk.stem import SnowballStemmer\n",
    "\n",
    "# Crear el stemmer en español\n",
    "stemmer_es = SnowballStemmer(\"spanish\")\n",
    "\n",
    "# Probarlo en la palabra \"caminar\"\n",
    "print(stemmer_es.stem(\"caminando\"))\n",
    "print(stemmer_es.stem(\"caminar\"))\n",
    "print(stemmer_es.stem(\"caminó\"))\n",
    "\n",
    "# Como se puede ver, el stemmer no es perfecto y solo elimino los sufijos ando, ar y ó"
   ],
   "outputs": [
    {
     "name": "stdout",
     "output_type": "stream",
     "text": [
      "camin\n",
      "camin\n",
      "camin\n"
     ]
    }
   ],
   "execution_count": 2
  },
  {
   "cell_type": "code",
   "metadata": {
    "ExecuteTime": {
     "end_time": "2024-06-03T15:37:50.025695Z",
     "start_time": "2024-06-03T15:37:49.984636Z"
    }
   },
   "source": [
    "# Otro ejemplo mediante una lista de palabras usando un bucle\n",
    "words = [\"comer\", \"come\", \"comiendo\", \"comió\", \"navegando\", \"conocer\", \"reunirse\"]\n",
    "\n",
    "for word in words:\n",
    "    print(word, \" -> \", stemmer_es.stem(word))"
   ],
   "outputs": [
    {
     "name": "stdout",
     "output_type": "stream",
     "text": [
      "comer  ->  com\n",
      "come  ->  com\n",
      "comiendo  ->  com\n",
      "comió  ->  com\n",
      "navegando  ->  naveg\n",
      "conocer  ->  conoc\n",
      "reunirse  ->  reun\n"
     ]
    }
   ],
   "execution_count": 3
  },
  {
   "cell_type": "markdown",
   "metadata": {},
   "source": [
    "<h3>Lemmatization (Lematización) con Spacy</h3>\n",
    "<p>Las lematización es el proceso de convertir una palabra a su forma base. Por ejemplo, \"corriendo\" se lematiza como \"correr\".</p>"
   ]
  },
  {
   "cell_type": "code",
   "metadata": {
    "ExecuteTime": {
     "end_time": "2024-06-03T15:37:51.011488Z",
     "start_time": "2024-06-03T15:37:50.028712Z"
    }
   },
   "source": [
    "import spacy"
   ],
   "outputs": [],
   "execution_count": 4
  },
  {
   "metadata": {
    "ExecuteTime": {
     "end_time": "2024-06-03T15:37:59.827533Z",
     "start_time": "2024-06-03T15:37:51.013501Z"
    }
   },
   "cell_type": "code",
   "source": "!python -m spacy download es_core_news_sm -q",
   "outputs": [
    {
     "name": "stdout",
     "output_type": "stream",
     "text": [
      "\u001B[38;5;2m✔ Download and installation successful\u001B[0m\n",
      "You can now load the package via spacy.load('es_core_news_sm')\n"
     ]
    },
    {
     "name": "stderr",
     "output_type": "stream",
     "text": [
      "\n",
      "[notice] A new release of pip is available: 23.2.1 -> 24.0\n",
      "[notice] To update, run: python.exe -m pip install --upgrade pip\n"
     ]
    }
   ],
   "execution_count": 5
  },
  {
   "cell_type": "code",
   "metadata": {
    "ExecuteTime": {
     "end_time": "2024-06-03T15:38:00.495442Z",
     "start_time": "2024-06-03T15:37:59.832260Z"
    }
   },
   "source": [
    "# Cargar el modelo en español\n",
    "nlp = spacy.load(\"es_core_news_sm\")\n",
    "\n",
    "# Crear un documento\n",
    "doc = nlp(\"caminando caminar caminó comer comiendo comió navegando conocer reunirse\")\n",
    "\n",
    "\n",
    "for token in doc:\n",
    "    print(token, \" -> \", token.lemma_)"
   ],
   "outputs": [
    {
     "name": "stdout",
     "output_type": "stream",
     "text": [
      "caminando  ->  caminar\n",
      "caminar  ->  caminar\n",
      "caminó  ->  caminar\n",
      "comer  ->  comer\n",
      "comiendo  ->  comer\n",
      "comió  ->  comer\n",
      "navegando  ->  navegar\n",
      "conocer  ->  conocer\n",
      "reunirse  ->  reunir él\n"
     ]
    }
   ],
   "execution_count": 6
  },
  {
   "metadata": {},
   "cell_type": "markdown",
   "source": [
    "<h3>Personalización del lematizador</h3>\n",
    "<p>Spacy permite personalizar el lematizador mediante el uso de reglas. Por ejemplo, si queremos que \"Carnal\" y \"Bro\" se lematizen como \"Hermano\", podemos agregar una regla al lematizador.</p>"
   ]
  },
  {
   "metadata": {
    "ExecuteTime": {
     "end_time": "2024-06-03T15:38:00.505675Z",
     "start_time": "2024-06-03T15:38:00.495442Z"
    }
   },
   "cell_type": "code",
   "source": "nlp.pipe_names",
   "outputs": [
    {
     "data": {
      "text/plain": [
       "['tok2vec', 'morphologizer', 'parser', 'attribute_ruler', 'lemmatizer', 'ner']"
      ]
     },
     "execution_count": 7,
     "metadata": {},
     "output_type": "execute_result"
    }
   ],
   "execution_count": 7
  },
  {
   "cell_type": "code",
   "metadata": {
    "scrolled": true,
    "ExecuteTime": {
     "end_time": "2024-06-03T15:38:00.563685Z",
     "start_time": "2024-06-03T15:38:00.507326Z"
    }
   },
   "source": [
    "ar = nlp.get_pipe('attribute_ruler')\n",
    "\n",
    "ar.add([[{\"TEXT\":\"Carnal\"}],[{\"TEXT\":\"Bro\"}]],{\"LEMMA\":\"Hermano\"})\n",
    "ar.add([[{\"TEXT\":\"digas\"}]],{\"LEMMA\":\"decir\"})\n",
    "\n",
    "doc = nlp(\"Carnal, quieres ir? ¡Bro, no digas que no! - Estoy durmiendo.\")\n",
    "for token in doc:\n",
    "    print(token.text, \" -> \", token.lemma_)"
   ],
   "outputs": [
    {
     "name": "stdout",
     "output_type": "stream",
     "text": [
      "Carnal  ->  Hermano\n",
      ",  ->  ,\n",
      "quieres  ->  querer\n",
      "ir  ->  ir\n",
      "?  ->  ?\n",
      "¡  ->  ¡\n",
      "Bro  ->  Hermano\n",
      ",  ->  ,\n",
      "no  ->  no\n",
      "digas  ->  decir\n",
      "que  ->  que\n",
      "no  ->  no\n",
      "!  ->  !\n",
      "-  ->  -\n",
      "Estoy  ->  estar\n",
      "durmiendo  ->  dormir\n",
      ".  ->  .\n"
     ]
    }
   ],
   "execution_count": 8
  },
  {
   "cell_type": "code",
   "metadata": {
    "ExecuteTime": {
     "end_time": "2024-06-03T15:38:00.574435Z",
     "start_time": "2024-06-03T15:38:00.563685Z"
    }
   },
   "source": "doc[0]",
   "outputs": [
    {
     "data": {
      "text/plain": [
       "Carnal"
      ]
     },
     "execution_count": 9,
     "metadata": {},
     "output_type": "execute_result"
    }
   ],
   "execution_count": 9
  },
  {
   "cell_type": "code",
   "metadata": {
    "ExecuteTime": {
     "end_time": "2024-06-03T15:38:00.586080Z",
     "start_time": "2024-06-03T15:38:00.575944Z"
    }
   },
   "source": "doc[0].lemma_",
   "outputs": [
    {
     "data": {
      "text/plain": [
       "'Hermano'"
      ]
     },
     "execution_count": 10,
     "metadata": {},
     "output_type": "execute_result"
    }
   ],
   "execution_count": 10
  }
 ],
 "metadata": {
  "kernelspec": {
   "display_name": "Python 3",
   "language": "python",
   "name": "python3"
  },
  "language_info": {
   "codemirror_mode": {
    "name": "ipython",
    "version": 3
   },
   "file_extension": ".py",
   "mimetype": "text/x-python",
   "name": "python",
   "nbconvert_exporter": "python",
   "pygments_lexer": "ipython3",
   "version": "3.8.5"
  }
 },
 "nbformat": 4,
 "nbformat_minor": 4
}
