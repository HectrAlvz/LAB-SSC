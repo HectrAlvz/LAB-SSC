{
 "cells": [
  {
   "cell_type": "markdown",
   "metadata": {
    "id": "KYoVrnewenmh"
   },
   "source": "### Stop words - Palabras Vacias"
  },
  {
   "metadata": {},
   "cell_type": "markdown",
   "source": "Cargar el corpus desde el archivo JSON:"
  },
  {
   "metadata": {
    "ExecuteTime": {
     "end_time": "2024-06-24T07:16:27.495516Z",
     "start_time": "2024-06-24T07:16:27.465245Z"
    }
   },
   "cell_type": "code",
   "source": [
    "import json\n",
    "\n",
    "with open('recursos/corpus.json', 'r', encoding='utf-8') as file:\n",
    "    corpus = json.load(file)"
   ],
   "outputs": [],
   "execution_count": 2
  },
  {
   "metadata": {},
   "cell_type": "markdown",
   "source": "Iterar sobre el corpus y aplicar la función preprocess() a cada documento:"
  },
  {
   "metadata": {
    "ExecuteTime": {
     "end_time": "2024-06-24T07:16:30.890207Z",
     "start_time": "2024-06-24T07:16:30.884963Z"
    }
   },
   "cell_type": "code",
   "source": [
    "def preprocess(text):\n",
    "    doc = nlp(text)\n",
    "    no_stop_words = [token.text for token in doc if not token.is_stop]\n",
    "    return \" \".join(no_stop_words)"
   ],
   "outputs": [],
   "execution_count": 3
  },
  {
   "metadata": {
    "ExecuteTime": {
     "end_time": "2024-06-24T07:17:33.694792Z",
     "start_time": "2024-06-24T07:16:31.570120Z"
    }
   },
   "cell_type": "code",
   "source": [
    "import spacy\n",
    "from spacy.lang.es.stop_words import STOP_WORDS\n",
    "\n",
    "nlp = spacy.load(\"es_core_news_sm\")\n",
    "\n",
    "preprocessed_corpus = []\n",
    "for documento in corpus:\n",
    "    texto = documento[\"contenido\"]\n",
    "    texto_procesado = preprocess(texto)\n",
    "    preprocessed_corpus.append({\n",
    "        \"grado\": documento[\"grado\"],\n",
    "        \"materia\": documento[\"materia\"],\n",
    "        \"archivo\": documento[\"archivo\"],\n",
    "        \"contenido_procesado\": texto_procesado\n",
    "    })"
   ],
   "outputs": [],
   "execution_count": 4
  },
  {
   "metadata": {
    "ExecuteTime": {
     "end_time": "2024-06-24T07:30:56.386524Z",
     "start_time": "2024-06-24T07:30:56.381027Z"
    }
   },
   "cell_type": "code",
   "source": [
    "# Seleccionar indice del documento a procesar\n",
    "indice = 1\n",
    "\n",
    "# Comparar el contenido original con el contenido procesado palabras\n",
    "print(\"Contenido original:\", corpus[indice][\"grado\"], \"Materia:\", corpus[indice][\"materia\"], \"Archivo:\", corpus[indice][\"archivo\"])\n",
    "print(corpus[indice][\"contenido\"][:200])\n",
    "\n",
    "# Separador\n",
    "print(\"\\n\" + \"=\"*100 + \"\\n\")\n",
    "\n",
    "print(\"Contenido procesado:\", preprocessed_corpus[indice][\"grado\"], \"Materia:\", preprocessed_corpus[indice][\"materia\"], \"Archivo:\", preprocessed_corpus[indice][\"archivo\"])\n",
    "print(preprocessed_corpus[indice][\"contenido_procesado\"][:200])"
   ],
   "outputs": [
    {
     "name": "stdout",
     "output_type": "stream",
     "text": [
      "Contenido original: 1er grado Materia: civica_1 Archivo: Civica_1.txt\n",
      "formacion civica y etica primer grado indice bloque bloque uno dos conoce tu libro me conozco y me cuido nombre es diferentes e iguales trabajo con los demas primer grupo prevencion de accidentes ries\n",
      "\n",
      "====================================================================================================\n",
      "\n",
      "Contenido procesado: 1er grado Materia: civica_1 Archivo: Civica_1.txt\n",
      "formacion civica etica grado indice bloque bloque conoce libro conozco cuido nombre iguales trabajo demas grupo prevencion accidentes riesgos alimentacion aprendi autoevaluacion expreso responsabilizo\n"
     ]
    }
   ],
   "execution_count": 23
  },
  {
   "metadata": {
    "ExecuteTime": {
     "end_time": "2024-06-24T07:33:34.289981Z",
     "start_time": "2024-06-24T07:33:34.260350Z"
    }
   },
   "cell_type": "code",
   "source": [
    "# Guardar el corpus corpus_stopword_procesado.json\n",
    "with open('recursos/corpus_stopword_procesado.json', 'w', encoding='utf-8') as file:\n",
    "    json.dump(preprocessed_corpus, file, ensure_ascii=False, indent=4)"
   ],
   "outputs": [],
   "execution_count": 25
  },
  {
   "metadata": {},
   "cell_type": "markdown",
   "source": "EL MISMO EJEMPLO USANDO EL CORPUS TOKENIZADO DEL EXPERIMENTO ANTERIOR"
  },
  {
   "metadata": {
    "ExecuteTime": {
     "end_time": "2024-06-24T07:40:52.552615Z",
     "start_time": "2024-06-24T07:40:52.424075Z"
    }
   },
   "cell_type": "code",
   "source": [
    "import json\n",
    "\n",
    "with open('recursos/tokenized_corpus.json', 'r', encoding='utf-8') as file:\n",
    "    tokenized_corpus = json.load(file)"
   ],
   "outputs": [],
   "execution_count": 26
  },
  {
   "metadata": {
    "ExecuteTime": {
     "end_time": "2024-06-24T07:40:53.711476Z",
     "start_time": "2024-06-24T07:40:53.706969Z"
    }
   },
   "cell_type": "code",
   "source": [
    "import spacy\n",
    "from spacy.lang.es.stop_words import STOP_WORDS"
   ],
   "outputs": [],
   "execution_count": 27
  },
  {
   "metadata": {
    "ExecuteTime": {
     "end_time": "2024-06-24T07:40:55.916179Z",
     "start_time": "2024-06-24T07:40:55.863721Z"
    }
   },
   "cell_type": "code",
   "source": [
    "preprocessed_corpus = []\n",
    "for documento in tokenized_corpus:\n",
    "    tokens = documento[\"tokens\"]\n",
    "    no_stop_words = [token for token in tokens if token not in STOP_WORDS]\n",
    "    preprocessed_corpus.append({\n",
    "        \"grado\": documento[\"grado\"],\n",
    "        \"materia\": documento[\"materia\"],\n",
    "        \"archivo\": documento[\"archivo\"],\n",
    "        \"tokens_sin_stopwords\": no_stop_words\n",
    "    })"
   ],
   "outputs": [],
   "execution_count": 28
  },
  {
   "metadata": {
    "ExecuteTime": {
     "end_time": "2024-06-24T07:43:48.491146Z",
     "start_time": "2024-06-24T07:43:48.485633Z"
    }
   },
   "cell_type": "code",
   "source": [
    "# Seleccionar indice del documento a procesar\n",
    "indice = 1\n",
    "\n",
    "# Comparar el contenido original con el contenido procesado palabras\n",
    "print(\"Contenido original:\", tokenized_corpus[indice][\"grado\"], \"Materia:\", tokenized_corpus[indice][\"materia\"], \"Archivo:\", tokenized_corpus[indice][\"archivo\"])\n",
    "print(tokenized_corpus[indice][\"tokens\"][:20])\n",
    "# Separador\n",
    "print(\"\\n\" + \"=\"*100 + \"\\n\")\n",
    "\n",
    "print(\"Contenido procesado:\", preprocessed_corpus[indice][\"grado\"], \"Materia:\", preprocessed_corpus[indice][\"materia\"], \"Archivo:\", preprocessed_corpus[indice][\"archivo\"])\n",
    "print(preprocessed_corpus[indice][\"tokens_sin_stopwords\"][:20])"
   ],
   "outputs": [
    {
     "name": "stdout",
     "output_type": "stream",
     "text": [
      "Contenido original: 1er grado Materia: civica_1 Archivo: Civica_1.txt\n",
      "['formacion', 'civica', 'y', 'etica', 'primer', 'grado', 'indice', 'bloque', 'bloque', 'uno', 'dos', 'conoce', 'tu', 'libro', 'me', 'conozco', 'y', 'me', 'cuido', 'nombre']\n",
      "\n",
      "====================================================================================================\n",
      "\n",
      "Contenido procesado: 1er grado Materia: civica_1 Archivo: Civica_1.txt\n",
      "['formacion', 'civica', 'etica', 'grado', 'indice', 'bloque', 'bloque', 'conoce', 'libro', 'conozco', 'cuido', 'nombre', 'iguales', 'trabajo', 'demas', 'grupo', 'prevencion', 'accidentes', 'riesgos', 'alimentacion']\n"
     ]
    }
   ],
   "execution_count": 36
  },
  {
   "metadata": {
    "ExecuteTime": {
     "end_time": "2024-06-24T07:46:15.423453Z",
     "start_time": "2024-06-24T07:46:15.209294Z"
    }
   },
   "cell_type": "code",
   "source": [
    "# Guardar el corpus corpus_NOstopword_tokenizado.json\n",
    "with open('recursos/corpus_NOstopword_tokenizado.json', 'w', encoding='utf-8') as file:\n",
    "    json.dump(preprocessed_corpus, file, ensure_ascii=False, indent=4)"
   ],
   "outputs": [],
   "execution_count": 37
  },
  {
   "metadata": {},
   "cell_type": "code",
   "outputs": [],
   "execution_count": null,
   "source": ""
  }
 ],
 "metadata": {
  "colab": {
   "collapsed_sections": [],
   "name": "BOW_exercise.ipynb",
   "provenance": []
  },
  "kernelspec": {
   "display_name": "Python 3",
   "language": "python",
   "name": "python3"
  },
  "language_info": {
   "codemirror_mode": {
    "name": "ipython",
    "version": 3
   },
   "file_extension": ".py",
   "mimetype": "text/x-python",
   "name": "python",
   "nbconvert_exporter": "python",
   "pygments_lexer": "ipython3",
   "version": "3.8.10"
  }
 },
 "nbformat": 4,
 "nbformat_minor": 1
}
