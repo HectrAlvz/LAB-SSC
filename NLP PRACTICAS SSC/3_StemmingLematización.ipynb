{
 "cells": [
  {
   "cell_type": "markdown",
   "metadata": {},
   "source": "<h3>Stemming (Derivación) en NLTK</h3>"
  },
  {
   "metadata": {},
   "cell_type": "markdown",
   "source": "Cargar el corpus tokenizado sin stopwords desde el archivo JSON:"
  },
  {
   "metadata": {
    "ExecuteTime": {
     "end_time": "2024-06-24T07:53:53.689325Z",
     "start_time": "2024-06-24T07:53:53.608298Z"
    }
   },
   "cell_type": "code",
   "source": [
    "import json\n",
    "\n",
    "with open('recursos/corpus_NOstopword_tokenizado.json', 'r', encoding='utf-8') as file:\n",
    "    tokenized_corpus = json.load(file)"
   ],
   "outputs": [],
   "execution_count": 1
  },
  {
   "metadata": {},
   "cell_type": "markdown",
   "source": "Aplicar el stemming utilizando NLTK:"
  },
  {
   "metadata": {
    "ExecuteTime": {
     "end_time": "2024-06-24T07:54:58.792361Z",
     "start_time": "2024-06-24T07:54:53.202294Z"
    }
   },
   "cell_type": "code",
   "source": [
    "import nltk\n",
    "from nltk.stem import SnowballStemmer\n",
    "\n",
    "# Descargar los recursos necesarios de NLTK\n",
    "nltk.download('wordnet')\n",
    "\n",
    "# Crear el stemmer en español\n",
    "stemmer_es = SnowballStemmer(\"spanish\")\n",
    "\n",
    "stemmed_corpus = []\n",
    "for documento in tokenized_corpus:\n",
    "    stemmed_tokens = [stemmer_es.stem(token) for token in documento[\"tokens_sin_stopwords\"]]\n",
    "    stemmed_corpus.append({\n",
    "        \"grado\": documento[\"grado\"],\n",
    "        \"materia\": documento[\"materia\"],\n",
    "        \"archivo\": documento[\"archivo\"],\n",
    "        \"tokens_stemmed\": stemmed_tokens\n",
    "    })"
   ],
   "outputs": [
    {
     "name": "stderr",
     "output_type": "stream",
     "text": [
      "[nltk_data] Downloading package wordnet to\n",
      "[nltk_data]     C:\\Users\\theso\\AppData\\Roaming\\nltk_data...\n",
      "[nltk_data]   Package wordnet is already up-to-date!\n"
     ]
    }
   ],
   "execution_count": 3
  },
  {
   "metadata": {},
   "cell_type": "markdown",
   "source": "Probar el stemming con algunas palabras de corpus:"
  },
  {
   "metadata": {
    "ExecuteTime": {
     "end_time": "2024-06-24T07:59:49.496042Z",
     "start_time": "2024-06-24T07:59:49.491241Z"
    }
   },
   "cell_type": "code",
   "source": [
    "# Imprimimos los primeros 10 tokens de cada documento\n",
    "for documento in stemmed_corpus:\n",
    "    print(documento[\"materia\"], \"-\", documento[\"tokens_stemmed\"][:10])"
   ],
   "outputs": [
    {
     "name": "stdout",
     "output_type": "stream",
     "text": [
      "ciencias_1 - ['explor', 'naturalez', 'socied', 'grad', 'indic', 'present', 'conoc', 'libr', 'bloqu', 'cuid']\n",
      "civica_1 - ['formacion', 'civic', 'etic', 'grad', 'indic', 'bloqu', 'bloqu', 'conoc', 'libr', 'conozc']\n",
      "español_1 - ['espanol', 'libr', 'alumn', 'grad', 'espanol', 'libr', 'alumn', 'grad', 'obra', 'ilustr']\n",
      "español_2 - ['espanol', 'libr', 'lectur', 'grad', 'vist', 'tijer', 'fern', 'krahn', 'busc', 'bibliotec']\n",
      "matematicas_1 - ['desafi', 'matemat', 'libr', 'alumn', 'grad', 'desafi', 'matemat', 'grad', 'present', 'introduccion']\n",
      "ciencias_2 - ['explor', 'naturalez', 'socied', 'grad', 'indic', 'present', 'conoc', 'libr', 'bloqu', 'vid']\n",
      "civica_2 - ['formacion', 'civic', 'etic', 'grad', 'indic', 'bloqu', 'bloqu', 'present', 'conoc', 'libr']\n",
      "español_2_1 - ['espanol', 'libr', 'alumn', 'grad', 'utiliz', 'icon', 'libr', 'leccion', 'encontr', 'icon']\n",
      "español_2_2 - ['espanol', 'libr', 'lectur', 'grad', 'indic', 'gust', 'perr', 'huel', 'cigarr', 'hormig']\n",
      "matematicas_2 - ['desafi', 'matemat', 'libr', 'alumn', 'grad', 'indic', 'introduccion', 'bloqu', 'compar', 'preci']\n",
      "artistica_3 - ['educ', 'artist', 'terc', 'grad', 'indic', 'present', 'conoc', 'libr', 'bloqu', 'leccion']\n",
      "ciencias_3 - ['cienci', 'natural', 'terc', 'grad', 'conoc', 'libr', 'libr', 'explic', 'fenomen', 'proces']\n",
      "civica_3 - ['formacion', 'civic', 'etic', 'terc', 'grad', 'conoc', 'libr', 'bloqu', 'nin', 'nin']\n",
      "español_3_1 - ['espanol', 'terc', 'grad', 'espanol', 'conoc', 'libr', 'libr', 'busc', 'proporcionart', 'oportun']\n",
      "español_3_2 - ['espanol', 'libr', 'lectur', 'terc', 'grad', 'indic', 'sombrer', 'pajarrac', 'pajar', 'caracol']\n",
      "matematicas_3 - ['desafi', 'matemat', 'libr', 'alumn', 'terc', 'grad', 'indic', 'introduccion', 'bloqu', 'chocolat']\n",
      "artistica_4 - ['educ', 'artist', 'cuart', 'grad', 'indic', 'present', 'conoc', 'libr', 'leccion', 'leccion']\n",
      "ciencias_4 - ['cienci', 'natural', 'cuart', 'grad', 'conoc', 'libr', 'libr', 'explic', 'fenomen', 'proces']\n",
      "constitucion_4 - ['conoc', 'constitucion', 'cuart', 'grad', 'nombr', 'alumn', 'escuel', 'grup', 'poblacion', 'entid']\n",
      "español_4 - ['espanol', 'libr', 'lectur', 'cuart', 'grad', 'indic', 'colibri', 'cond', 'olin', 'pizarron']\n",
      "historia_4 - ['histori', 'cuart', 'grad', 'indic', 'conoc', 'libr', 'bloqu', 'poblamient', 'amer', 'inici']\n",
      "matematicas_4 - ['desafi', 'matemat', 'libr', 'alumn', 'cuart', 'grad', 'indic', 'introduccion', 'bloqu', 'librer']\n",
      "artistica_5 - ['educ', 'artist', 'quint', 'grad', 'indic', 'present', 'conoc', 'libr', 'bloqu', 'leccion']\n",
      "ciencias_5 - ['cienci', 'natural', 'quint', 'grad', 'conoc', 'libr', 'libr', 'explic', 'fenomen', 'proces']\n",
      "espanol_5_1 - ['espanol', 'quint', 'grad', 'conoc', 'libr', 'conoc', 'libr', 'libr', 'busc', 'proporcionart']\n",
      "espanol_5_2 - ['espanol', 'libr', 'lectur', 'quint', 'grad', 'indic', 'acab', 'serenat', 'huastec', 'cuadrill']\n",
      "historia_5 - ['histori', 'quint', 'grad', 'indic', 'conoc', 'libr', 'bloqu', 'anos', 'vid', 'independient']\n",
      "matematicas_5 - ['desafi', 'matemat', 'libr', 'alumn', 'quint', 'grad', 'indic', 'introduccion', 'bloqu', 'sum']\n",
      "artistica_6 - ['educ', 'artist', 'sext', 'grad', 'indic', 'leccion', 'leccion', 'leccion', 'leccion', 'leccion']\n",
      "ciencias_6 - ['cienci', 'natural', 'sext', 'grad', 'b', 'q', 'conoc', 'libr', 'libr', 'explic']\n",
      "civica_6 - ['formacion', 'civic', 'etic', 'sext', 'grad', 'present', 'conoc', 'libr', 'bloqu', 'ninez']\n",
      "espanol_6_1 - ['espanol', 'sext', 'grad', 'conoc', 'libr', 'asignatur', 'espanol', 'organiz', 'bloqu', 'correspond']\n",
      "espanol_6_2 - ['espanol', 'libr', 'lectur', 'sext', 'grad', 'indic', 'bes', 'sub', 'baj', 'adi']\n",
      "geografia_6 - ['geografi', 'sext', 'grad', 'conoc', 'libr', 'comenc', 'seccion', 'identific', 'conten', 'leccion']\n",
      "historia_6 - ['histori', 'sext', 'grad', 'indic', 'conoc', 'libr', 'bloqu', 'prehistori', 'ser', 'human']\n",
      "matematicas_6 - ['desafi', 'matemat', 'libr', 'alumn', 'sext', 'grad', 'indic', 'introduccion', 'bloqu', 'continent']\n"
     ]
    }
   ],
   "execution_count": 7
  },
  {
   "cell_type": "code",
   "metadata": {
    "ExecuteTime": {
     "end_time": "2024-06-24T08:17:36.255640Z",
     "start_time": "2024-06-24T08:17:36.251516Z"
    }
   },
   "source": [
    "# Seleccionar indice del documento a utilizar\n",
    "indice = 21\n",
    "\n",
    "# Imprimir el documento original y el documento con stemming usando un bucle\n",
    "for token in range(20):\n",
    "    print(tokenized_corpus[indice][\"tokens_sin_stopwords\"][token], \" -> \", stemmed_corpus[indice][\"tokens_stemmed\"][token])"
   ],
   "outputs": [
    {
     "name": "stdout",
     "output_type": "stream",
     "text": [
      "desafios  ->  desafi\n",
      "matematicos  ->  matemat\n",
      "libro  ->  libr\n",
      "alumno  ->  alumn\n",
      "cuarto  ->  cuart\n",
      "grado  ->  grad\n",
      "indice  ->  indic\n",
      "introduccion  ->  introduccion\n",
      "bloque  ->  bloqu\n",
      "libreros  ->  librer\n",
      "suma  ->  sum\n",
      "productos  ->  product\n",
      "decimos  ->  dec\n",
      "centesimos  ->  centes\n",
      "milesimos  ->  miles\n",
      "expresiones  ->  expresion\n",
      "punto  ->  punt\n",
      "fabrica  ->  fabric\n",
      "tapetes  ->  tapet\n",
      "fiesta  ->  fiest\n"
     ]
    }
   ],
   "execution_count": 21
  },
  {
   "cell_type": "markdown",
   "metadata": {},
   "source": [
    "<h3>Lemmatization (Lematización) con Spacy</h3>\n",
    "<p>Las lematización es el proceso de convertir una palabra a su forma base. Por ejemplo, \"corriendo\" se lematiza como \"correr\".</p>"
   ]
  },
  {
   "cell_type": "code",
   "metadata": {
    "ExecuteTime": {
     "end_time": "2024-06-24T08:06:57.831536Z",
     "start_time": "2024-06-24T08:06:26.781615Z"
    }
   },
   "source": [
    "import spacy\n",
    "\n",
    "# Cargar el modelo en español\n",
    "nlp = spacy.load(\"es_core_news_sm\")\n",
    "\n",
    "lemmatized_corpus = []\n",
    "for documento in tokenized_corpus:\n",
    "    doc = nlp(\" \".join(documento[\"tokens_sin_stopwords\"]))\n",
    "    lemmatized_tokens = [token.lemma_ for token in doc]\n",
    "    lemmatized_corpus.append({\n",
    "        \"grado\": documento[\"grado\"],\n",
    "        \"materia\": documento[\"materia\"],\n",
    "        \"archivo\": documento[\"archivo\"],\n",
    "        \"tokens_lemmatized\": lemmatized_tokens\n",
    "    })"
   ],
   "outputs": [],
   "execution_count": 13
  },
  {
   "metadata": {
    "ExecuteTime": {
     "end_time": "2024-06-24T08:07:12.197225Z",
     "start_time": "2024-06-24T08:07:12.191673Z"
    }
   },
   "cell_type": "code",
   "source": [
    "# Imprimimos los primeros 10 tokens de cada documento\n",
    "for documento in lemmatized_corpus:\n",
    "    print(documento[\"materia\"], \"-\", documento[\"tokens_lemmatized\"][:10])"
   ],
   "outputs": [
    {
     "name": "stdout",
     "output_type": "stream",
     "text": [
      "ciencias_1 - ['exploracion', 'naturaleza', 'sociedad', 'grado', 'indecir', 'presentacion', 'conocer', 'libro', 'blocar', 'cuidado']\n",
      "civica_1 - ['formacion', 'civicar', 'etico', 'grado', 'indecir', 'bloque', 'bloque', 'conocer', 'libro', 'conocer']\n",
      "español_1 - ['espanol', 'libro', 'alumno', 'grado', 'espanol', 'libro', 'alumno', 'grado', 'obra', 'ilustro']\n",
      "español_2 - ['espanol', 'libro', 'lectura', 'grado', 'visto', 'tijera', 'fernando', 'krahn', 'buscar', 'biblioteca']\n",
      "matematicas_1 - ['desafio', 'matematico', 'libro', 'alumno', 'grado', 'desafio', 'matematico', 'grado', 'presentacion', 'introduccion']\n",
      "ciencias_2 - ['exploracion', 'naturaleza', 'sociedad', 'grado', 'indecir', 'presentacion', 'conocer', 'libro', 'bloque', 'vida']\n",
      "civica_2 - ['formacion', 'civicar', 'etico', 'grado', 'indecir', 'bloque', 'bloque', 'presentacion', 'conocer', 'libro']\n",
      "español_2_1 - ['espanol', 'libro', 'alumno', 'grado', 'utilizar', 'icono', 'libro', 'lección', 'encontrara', 'icono']\n",
      "español_2_2 - ['espanol', 'libro', 'lectura', 'grado', 'indecir', 'gusta', 'perro', 'oler', 'cigarra', 'hormiga']\n",
      "matematicas_2 - ['desafio', 'matematico', 'libro', 'alumno', 'grado', 'indecir', 'introduccion', 'bloque', 'comparacion', 'precio']\n",
      "artistica_3 - ['educacion', 'artisticar', 'tercer', 'grado', 'indecir', 'presentacion', 'conocer', 'libro', 'bloque', 'leccion']\n",
      "ciencias_3 - ['ciencia', 'natural', 'tercer', 'grado', 'conocer', 'libro', 'libro', 'explicar', 'fenomeno', 'proceso']\n",
      "civica_3 - ['formacion', 'civicar', 'etica', 'tercer', 'grado', 'conocer', 'libro', 'blocar', 'nina', 'nino']\n",
      "español_3_1 - ['espanol', 'tercer', 'grado', 'espanol', 'conocer', 'libro', 'libro', 'buscar', 'proporcionarte', 'oportunidad']\n",
      "español_3_2 - ['espanol', 'libro', 'lectura', 'tercer', 'grado', 'indicar', 'sombrero', 'pajarraco', 'pajaro', 'caracol']\n",
      "matematicas_3 - ['desafio', 'matematico', 'libro', 'alumno', 'tercer', 'grado', 'indecir', 'introduccion', 'bloque', 'chocolat']\n",
      "artistica_4 - ['educacion', 'artistico', 'cuarto', 'grado', 'indecir', 'presentacion', 'conocer', 'libro', 'leccion', 'leccion']\n",
      "ciencias_4 - ['ciencia', 'natural', 'cuarto', 'grado', 'conocer', 'libro', 'libro', 'explicar', 'fenomeno', 'proceso']\n",
      "constitucion_4 - ['conocer', 'constitucion', 'cuarto', 'grado', 'nombre', 'alumno', 'escuela', 'grupo', 'poblacion', 'entidad']\n",
      "español_4 - ['espanol', 'libro', 'lectura', 'cuarto', 'grado', 'indecir', 'colibri', 'conde', 'olino', 'pizarron']\n",
      "historia_4 - ['historia', 'cuarto', 'grado', 'indecir', 'conocer', 'libro', 'blocar', 'poblamiento', 'americo', 'inicio']\n",
      "matematicas_4 - ['desafio', 'matematico', 'libro', 'alumno', 'cuarto', 'grado', 'indecir', 'introduccion', 'bloque', 'librero']\n",
      "artistica_5 - ['educacion', 'artistica', 'quinto', 'grado', 'indecir', 'presentacion', 'conocer', 'libro', 'bloque', 'leccion']\n",
      "ciencias_5 - ['ciencia', 'natural', 'quinto', 'grado', 'conocer', 'libro', 'libro', 'explicar', 'fenomeno', 'proceso']\n",
      "espanol_5_1 - ['espanol', 'quinto', 'grado', 'conocer', 'libro', 'conocer', 'libro', 'libro', 'buscar', 'proporcionarte']\n",
      "espanol_5_2 - ['espanol', 'libro', 'lectura', 'quinto', 'grado', 'indecir', 'acabo', 'serenata', 'huasteca', 'cuadrilla']\n",
      "historia_5 - ['historia', 'quinto', 'grado', 'indecir', 'conocer', 'libro', 'blocar', 'anos', 'vida', 'independiente']\n",
      "matematicas_5 - ['desafio', 'matematico', 'libro', 'alumno', 'quinto', 'grado', 'indecir', 'introduccion', 'bloque', 'sumar']\n",
      "artistica_6 - ['educacion', 'artistico', 'sexto', 'grado', 'indecir', 'leccion', 'leccion', 'leccion', 'leccion', 'leccion']\n",
      "ciencias_6 - ['ciencia', 'natural', 'sexto', 'grado', 'b', 'q', 'conocer', 'libro', 'libro', 'explicar']\n",
      "civica_6 - ['formacion', 'civicar', 'etica', 'sexto', 'grado', 'presentacion', 'conocer', 'libro', 'blocar', 'ninez']\n",
      "espanol_6_1 - ['espanol', 'sexto', 'grado', 'conocer', 'libro', 'asignaturar', 'espanol', 'organizado', 'bloque', 'corresponder']\n",
      "espanol_6_2 - ['espanol', 'libro', 'lectura', 'sexto', 'grado', 'indecir', 'beso', 'subir', 'bajo', 'adio']\n",
      "geografia_6 - ['geografia', 'sexto', 'grado', 'conocer', 'libro', 'comencer', 'seccion', 'identificara', 'contenido', 'leccion']\n",
      "historia_6 - ['historia', 'sexto', 'grado', 'indecir', 'conocer', 'libro', 'bloque', 'prehistorio', 'ser', 'humano']\n",
      "matematicas_6 - ['desafio', 'matematico', 'libro', 'alumno', 'sexto', 'grado', 'indecir', 'introduccion', 'bloque', 'continente']\n"
     ]
    }
   ],
   "execution_count": 14
  },
  {
   "metadata": {
    "ExecuteTime": {
     "end_time": "2024-06-24T08:10:08.895354Z",
     "start_time": "2024-06-24T08:10:08.890075Z"
    }
   },
   "cell_type": "code",
   "source": [
    "# Seleccionar indice del documento a utilizar\n",
    "indice = 21\n",
    "\n",
    "# Imprimir el documento original y el documento con lematización usando un bucle\n",
    "for token in range(20):\n",
    "    print(tokenized_corpus[indice][\"tokens_sin_stopwords\"][token], \" -> \", lemmatized_corpus[indice][\"tokens_lemmatized\"][token])"
   ],
   "outputs": [
    {
     "name": "stdout",
     "output_type": "stream",
     "text": [
      "desafios  ->  desafio\n",
      "matematicos  ->  matematico\n",
      "libro  ->  libro\n",
      "alumno  ->  alumno\n",
      "cuarto  ->  cuarto\n",
      "grado  ->  grado\n",
      "indice  ->  indecir\n",
      "introduccion  ->  introduccion\n",
      "bloque  ->  bloque\n",
      "libreros  ->  librero\n",
      "suma  ->  sumar\n",
      "productos  ->  producto\n",
      "decimos  ->  decir\n",
      "centesimos  ->  centesimo\n",
      "milesimos  ->  milesir\n",
      "expresiones  ->  expresión\n",
      "punto  ->  punto\n",
      "fabrica  ->  fabricar\n",
      "tapetes  ->  tapetes\n",
      "fiesta  ->  fiesta\n"
     ]
    }
   ],
   "execution_count": 19
  }
 ],
 "metadata": {
  "kernelspec": {
   "display_name": "Python 3",
   "language": "python",
   "name": "python3"
  },
  "language_info": {
   "codemirror_mode": {
    "name": "ipython",
    "version": 3
   },
   "file_extension": ".py",
   "mimetype": "text/x-python",
   "name": "python",
   "nbconvert_exporter": "python",
   "pygments_lexer": "ipython3",
   "version": "3.8.5"
  }
 },
 "nbformat": 4,
 "nbformat_minor": 4
}
