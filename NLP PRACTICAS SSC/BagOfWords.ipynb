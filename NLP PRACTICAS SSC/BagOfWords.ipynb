{
 "cells": [
  {
   "cell_type": "markdown",
   "id": "b062f314",
   "metadata": {},
   "source": [
    "<h2 align='center'>NLP Tutorial: Text Representation - Bag Of Words (BOW)</h2>"
   ]
  },
  {
   "cell_type": "code",
   "id": "54f8d7a3",
   "metadata": {
    "ExecuteTime": {
     "end_time": "2024-06-24T08:45:22.488626Z",
     "start_time": "2024-06-24T08:45:22.478030Z"
    }
   },
   "source": [
    "import pandas as pd\n",
    "import numpy as np"
   ],
   "outputs": [],
   "execution_count": 56
  },
  {
   "metadata": {},
   "cell_type": "markdown",
   "source": "Cargar el corpus desde el archivo JSON:",
   "id": "b065a79d441e84b3"
  },
  {
   "cell_type": "code",
   "id": "e8912b1f",
   "metadata": {
    "ExecuteTime": {
     "end_time": "2024-06-24T08:45:22.897735Z",
     "start_time": "2024-06-24T08:45:22.809764Z"
    }
   },
   "source": [
    "corpus = pd.read_json(\"corpus.json\")\n",
    "corpus.head()"
   ],
   "outputs": [
    {
     "data": {
      "text/plain": [
       "       grado        materia            archivo  \\\n",
       "0  1er grado     ciencias_1    naturales_1.txt   \n",
       "1  1er grado       civica_1       Civica_1.txt   \n",
       "2  1er grado     español_1      espanol_1.txt   \n",
       "3  1er grado     español_2      espanol_2.txt   \n",
       "4  1er grado  matematicas_1  matematicas_1.txt   \n",
       "\n",
       "                                           contenido  \n",
       "0  exploracion de la naturaleza y la sociedad pri...  \n",
       "1  formacion civica y etica primer grado indice b...  \n",
       "2  espanol libro para el alumno primer grado espa...  \n",
       "3  espanol libro de lectura primer grado quien ha...  \n",
       "4  desafios matematicos libro para el alumno prim...  "
      ],
      "text/html": [
       "<div>\n",
       "<style scoped>\n",
       "    .dataframe tbody tr th:only-of-type {\n",
       "        vertical-align: middle;\n",
       "    }\n",
       "\n",
       "    .dataframe tbody tr th {\n",
       "        vertical-align: top;\n",
       "    }\n",
       "\n",
       "    .dataframe thead th {\n",
       "        text-align: right;\n",
       "    }\n",
       "</style>\n",
       "<table border=\"1\" class=\"dataframe\">\n",
       "  <thead>\n",
       "    <tr style=\"text-align: right;\">\n",
       "      <th></th>\n",
       "      <th>grado</th>\n",
       "      <th>materia</th>\n",
       "      <th>archivo</th>\n",
       "      <th>contenido</th>\n",
       "    </tr>\n",
       "  </thead>\n",
       "  <tbody>\n",
       "    <tr>\n",
       "      <th>0</th>\n",
       "      <td>1er grado</td>\n",
       "      <td>ciencias_1</td>\n",
       "      <td>naturales_1.txt</td>\n",
       "      <td>exploracion de la naturaleza y la sociedad pri...</td>\n",
       "    </tr>\n",
       "    <tr>\n",
       "      <th>1</th>\n",
       "      <td>1er grado</td>\n",
       "      <td>civica_1</td>\n",
       "      <td>Civica_1.txt</td>\n",
       "      <td>formacion civica y etica primer grado indice b...</td>\n",
       "    </tr>\n",
       "    <tr>\n",
       "      <th>2</th>\n",
       "      <td>1er grado</td>\n",
       "      <td>español_1</td>\n",
       "      <td>espanol_1.txt</td>\n",
       "      <td>espanol libro para el alumno primer grado espa...</td>\n",
       "    </tr>\n",
       "    <tr>\n",
       "      <th>3</th>\n",
       "      <td>1er grado</td>\n",
       "      <td>español_2</td>\n",
       "      <td>espanol_2.txt</td>\n",
       "      <td>espanol libro de lectura primer grado quien ha...</td>\n",
       "    </tr>\n",
       "    <tr>\n",
       "      <th>4</th>\n",
       "      <td>1er grado</td>\n",
       "      <td>matematicas_1</td>\n",
       "      <td>matematicas_1.txt</td>\n",
       "      <td>desafios matematicos libro para el alumno prim...</td>\n",
       "    </tr>\n",
       "  </tbody>\n",
       "</table>\n",
       "</div>"
      ]
     },
     "execution_count": 57,
     "metadata": {},
     "output_type": "execute_result"
    }
   ],
   "execution_count": 57
  },
  {
   "cell_type": "code",
   "id": "e4f5ae86",
   "metadata": {
    "ExecuteTime": {
     "end_time": "2024-06-24T08:45:22.914311Z",
     "start_time": "2024-06-24T08:45:22.901754Z"
    }
   },
   "source": "corpus.grado.value_counts()",
   "outputs": [
    {
     "data": {
      "text/plain": [
       "grado\n",
       "6o grado     8\n",
       "3er grado    6\n",
       "4o grado     6\n",
       "5o grado     6\n",
       "1er grado    5\n",
       "2o grado     5\n",
       "Name: count, dtype: int64"
      ]
     },
     "execution_count": 58,
     "metadata": {},
     "output_type": "execute_result"
    }
   ],
   "execution_count": 58
  },
  {
   "cell_type": "code",
   "id": "6b665e00",
   "metadata": {
    "ExecuteTime": {
     "end_time": "2024-06-24T08:45:23.035342Z",
     "start_time": "2024-06-24T08:45:23.025885Z"
    }
   },
   "source": "corpus.shape",
   "outputs": [
    {
     "data": {
      "text/plain": [
       "(36, 4)"
      ]
     },
     "execution_count": 59,
     "metadata": {},
     "output_type": "execute_result"
    }
   ],
   "execution_count": 59
  },
  {
   "metadata": {
    "ExecuteTime": {
     "end_time": "2024-06-24T08:45:24.206529Z",
     "start_time": "2024-06-24T08:45:23.052888Z"
    }
   },
   "cell_type": "code",
   "source": [
    "import pandas as pd\n",
    "\n",
    "# Leer el archivo JSON con Pandas\n",
    "df = pd.read_json('corpus.json')\n",
    "\n",
    "# Extraer el texto y el target (grado o materia)\n",
    "X = df['contenido']\n",
    "y = df['grado']  # o y = df['materia']\n",
    "\n",
    "# Dividir los datos en conjuntos de entrenamiento y prueba\n",
    "from sklearn.model_selection import train_test_split\n",
    "X_train, X_test, y_train, y_test = train_test_split(X, y, test_size=0.2, random_state=42)\n",
    "\n",
    "# Crear la representación de bolsa de palabras utilizando CountVectorizer\n",
    "from sklearn.feature_extraction.text import CountVectorizer\n",
    "vectorizer = CountVectorizer()\n",
    "X_train_cv = vectorizer.fit_transform(X_train)\n",
    "X_test_cv = vectorizer.transform(X_test)\n",
    "\n",
    "# Entrenar el modelo de Naive Bayes\n",
    "from sklearn.naive_bayes import MultinomialNB\n",
    "model = MultinomialNB()\n",
    "model.fit(X_train_cv, y_train)\n",
    "\n",
    "# Evaluar el rendimiento del modelo\n",
    "from sklearn.metrics import classification_report\n",
    "y_pred = model.predict(X_test_cv)\n",
    "print(classification_report(y_test, y_pred))\n",
    "\n",
    "# Probar el modelo con datos nuevos\n",
    "new_texts = ['Este es un texto de ejemplo.', 'Otro texto de ejemplo.']\n",
    "new_texts_cv = vectorizer.transform(new_texts)\n",
    "predictions = model.predict(new_texts_cv)\n",
    "print(predictions)"
   ],
   "id": "c5033be56be0fc67",
   "outputs": [
    {
     "name": "stdout",
     "output_type": "stream",
     "text": [
      "              precision    recall  f1-score   support\n",
      "\n",
      "   3er grado       0.00      0.00      0.00         2\n",
      "    4o grado       0.00      0.00      0.00         2\n",
      "    5o grado       0.00      0.00      0.00         1\n",
      "    6o grado       0.50      0.33      0.40         3\n",
      "\n",
      "    accuracy                           0.12         8\n",
      "   macro avg       0.12      0.08      0.10         8\n",
      "weighted avg       0.19      0.12      0.15         8\n",
      "\n",
      "['5o grado' '5o grado']\n"
     ]
    },
    {
     "name": "stderr",
     "output_type": "stream",
     "text": [
      "C:\\Users\\theso\\PycharmProjects\\exercisesSSC\\venv\\Lib\\site-packages\\sklearn\\metrics\\_classification.py:1509: UndefinedMetricWarning: Precision is ill-defined and being set to 0.0 in labels with no predicted samples. Use `zero_division` parameter to control this behavior.\n",
      "  _warn_prf(average, modifier, f\"{metric.capitalize()} is\", len(result))\n",
      "C:\\Users\\theso\\PycharmProjects\\exercisesSSC\\venv\\Lib\\site-packages\\sklearn\\metrics\\_classification.py:1509: UndefinedMetricWarning: Precision is ill-defined and being set to 0.0 in labels with no predicted samples. Use `zero_division` parameter to control this behavior.\n",
      "  _warn_prf(average, modifier, f\"{metric.capitalize()} is\", len(result))\n",
      "C:\\Users\\theso\\PycharmProjects\\exercisesSSC\\venv\\Lib\\site-packages\\sklearn\\metrics\\_classification.py:1509: UndefinedMetricWarning: Precision is ill-defined and being set to 0.0 in labels with no predicted samples. Use `zero_division` parameter to control this behavior.\n",
      "  _warn_prf(average, modifier, f\"{metric.capitalize()} is\", len(result))\n"
     ]
    }
   ],
   "execution_count": 60
  }
 ],
 "metadata": {
  "kernelspec": {
   "display_name": "Python 3",
   "language": "python",
   "name": "python3"
  },
  "language_info": {
   "codemirror_mode": {
    "name": "ipython",
    "version": 3
   },
   "file_extension": ".py",
   "mimetype": "text/x-python",
   "name": "python",
   "nbconvert_exporter": "python",
   "pygments_lexer": "ipython3",
   "version": "3.8.10"
  }
 },
 "nbformat": 4,
 "nbformat_minor": 5
}
